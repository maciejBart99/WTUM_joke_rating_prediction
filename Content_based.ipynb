{
 "cells": [
  {
   "cell_type": "code",
   "execution_count": 1,
   "id": "1be372dd",
   "metadata": {},
   "outputs": [],
   "source": [
    "from src.full_text_models import BertCosineModel, FullPreprocessingTFIDFCosineModel\n",
    "from src.models.content_based import ContentBaseModel\n",
    "\n",
    "from src.core import Environment, DataLoader"
   ]
  },
  {
   "cell_type": "code",
   "execution_count": 2,
   "id": "11d34ae8",
   "metadata": {},
   "outputs": [],
   "source": [
    "dl = DataLoader('data/jokes.csv', 'data/rating.csv')"
   ]
  },
  {
   "cell_type": "code",
   "execution_count": 3,
   "id": "38958eb2",
   "metadata": {},
   "outputs": [],
   "source": [
    "text_model = BertCosineModel()"
   ]
  },
  {
   "cell_type": "code",
   "execution_count": 4,
   "id": "4d4baef2",
   "metadata": {},
   "outputs": [],
   "source": [
    "model = ContentBaseModel(dl.jokes.shape[0], text_model)"
   ]
  },
  {
   "cell_type": "code",
   "execution_count": 5,
   "id": "457982e2",
   "metadata": {},
   "outputs": [],
   "source": [
    "env = Environment(dl, model)"
   ]
  },
  {
   "cell_type": "code",
   "execution_count": 6,
   "id": "1629f4b3",
   "metadata": {},
   "outputs": [
    {
     "name": "stdout",
     "output_type": "stream",
     "text": [
      "Explained variance score: 0.18827821681035528\n",
      "Mean absolute error: 3.509224347570403\n",
      "Mean squared error: 22.37097991611748\n",
      "Median absolute error: 2.602117494824016\n",
      "R2 coefficient: 0.1826082531088684\n"
     ]
    }
   ],
   "source": [
    "env.run()"
   ]
  },
  {
   "cell_type": "code",
   "execution_count": 3,
   "id": "cb7d7e20",
   "metadata": {},
   "outputs": [],
   "source": [
    "tfidf_model = FullPreprocessingTFIDFCosineModel(dl.jokes['joke_text'].tolist())"
   ]
  },
  {
   "cell_type": "code",
   "execution_count": 4,
   "id": "3f73a9f3",
   "metadata": {},
   "outputs": [],
   "source": [
    "model_2 = ContentBaseModel(dl.jokes.shape[0], tfidf_model)"
   ]
  },
  {
   "cell_type": "code",
   "execution_count": 5,
   "id": "c8889084",
   "metadata": {},
   "outputs": [],
   "source": [
    "env_2 = Environment(dl, model_2)"
   ]
  },
  {
   "cell_type": "code",
   "execution_count": 6,
   "id": "ea5650c0",
   "metadata": {},
   "outputs": [
    {
     "name": "stdout",
     "output_type": "stream",
     "text": [
      "Explained variance score: 0.189092234026206\n",
      "Mean absolute error: 3.5019738071129467\n",
      "Mean squared error: 22.355663067806216\n",
      "Median absolute error: 2.589817774936062\n",
      "R2 coefficient: 0.18340552885574912\n"
     ]
    }
   ],
   "source": [
    "env_2.run()"
   ]
  },
  {
   "cell_type": "code",
   "execution_count": null,
   "id": "616fc373",
   "metadata": {},
   "outputs": [],
   "source": []
  }
 ],
 "metadata": {
  "kernelspec": {
   "display_name": "Python 3 (ipykernel)",
   "language": "python",
   "name": "python3"
  },
  "language_info": {
   "codemirror_mode": {
    "name": "ipython",
    "version": 3
   },
   "file_extension": ".py",
   "mimetype": "text/x-python",
   "name": "python",
   "nbconvert_exporter": "python",
   "pygments_lexer": "ipython3",
   "version": "3.8.2"
  }
 },
 "nbformat": 4,
 "nbformat_minor": 5
}
