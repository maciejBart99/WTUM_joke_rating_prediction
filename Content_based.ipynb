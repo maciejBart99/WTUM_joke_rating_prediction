{
 "cells": [
  {
   "cell_type": "code",
   "execution_count": 3,
   "id": "1be372dd",
   "metadata": {},
   "outputs": [],
   "source": [
    "from src.full_text_models import BertCosineModel, FullPreprocessingTFIDFCosineModel\n",
    "from src.models.content_based import ContentBaseModel\n",
    "\n",
    "from src.core import Environment, DataLoader"
   ]
  },
  {
   "cell_type": "code",
   "execution_count": 2,
   "id": "11d34ae8",
   "metadata": {},
   "outputs": [],
   "source": [
    "dl = DataLoader('data/jokes.csv', 'data/rating.csv')"
   ]
  },
  {
   "cell_type": "code",
   "execution_count": 3,
   "id": "38958eb2",
   "metadata": {},
   "outputs": [],
   "source": [
    "text_model = BertCosineModel()"
   ]
  },
  {
   "cell_type": "code",
   "execution_count": 4,
   "id": "4d4baef2",
   "metadata": {},
   "outputs": [],
   "source": [
    "model = ContentBaseModel(dl.jokes.shape[0], text_model)"
   ]
  },
  {
   "cell_type": "code",
   "execution_count": 5,
   "id": "457982e2",
   "metadata": {},
   "outputs": [],
   "source": [
    "env = Environment(dl, model)"
   ]
  },
  {
   "cell_type": "code",
   "execution_count": 6,
   "id": "1629f4b3",
   "metadata": {},
   "outputs": [
    {
     "name": "stdout",
     "output_type": "stream",
     "text": [
      "Explained variance score: 0.245060865531479\n",
      "Mean absolute error: 3.401487091164569\n",
      "Mean squared error: 20.783849113581297\n",
      "Median absolute error: 2.5400696858800385\n",
      "R2 coefficient: 0.2409516070506934\n"
     ]
    }
   ],
   "source": [
    "env.run()"
   ]
  },
  {
   "cell_type": "code",
   "execution_count": 4,
   "id": "cb7d7e20",
   "metadata": {},
   "outputs": [],
   "source": [
    "tfidf_model = FullPreprocessingTFIDFCosineModel(dl.jokes['joke_text'].tolist())"
   ]
  },
  {
   "cell_type": "code",
   "execution_count": 5,
   "id": "50d9b7fe",
   "metadata": {},
   "outputs": [],
   "source": [
    "model_2 = ContentBaseModel(dl.jokes.shape[0], tfidf_model)"
   ]
  },
  {
   "cell_type": "code",
   "execution_count": 6,
   "id": "e4dfce66",
   "metadata": {},
   "outputs": [],
   "source": [
    "env_2 = Environment(dl, model_2)"
   ]
  },
  {
   "cell_type": "code",
   "execution_count": 7,
   "id": "04f5bed0",
   "metadata": {},
   "outputs": [
    {
     "name": "stdout",
     "output_type": "stream",
     "text": [
      "Explained variance score: 0.18371622140417865\n",
      "Mean absolute error: 3.5097232397245515\n",
      "Mean squared error: 22.409155959619465\n",
      "Median absolute error: 2.5940000000000003\n",
      "R2 coefficient: 0.17761894197234673\n"
     ]
    }
   ],
   "source": [
    "env_2.run()"
   ]
  },
  {
   "cell_type": "code",
   "execution_count": null,
   "id": "1ac99372",
   "metadata": {},
   "outputs": [],
   "source": []
  }
 ],
 "metadata": {
  "kernelspec": {
   "display_name": "Python 3 (ipykernel)",
   "language": "python",
   "name": "python3"
  },
  "language_info": {
   "codemirror_mode": {
    "name": "ipython",
    "version": 3
   },
   "file_extension": ".py",
   "mimetype": "text/x-python",
   "name": "python",
   "nbconvert_exporter": "python",
   "pygments_lexer": "ipython3",
   "version": "3.8.2"
  }
 },
 "nbformat": 4,
 "nbformat_minor": 5
}