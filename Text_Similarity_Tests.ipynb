{
 "cells": [
  {
   "cell_type": "code",
   "execution_count": 1,
   "id": "e9073c51",
   "metadata": {},
   "outputs": [],
   "source": [
    "from src.core import DataLoader"
   ]
  },
  {
   "cell_type": "code",
   "execution_count": 2,
   "id": "12833ecb",
   "metadata": {},
   "outputs": [],
   "source": [
    "import pandas as pd"
   ]
  },
  {
   "cell_type": "code",
   "execution_count": 3,
   "id": "0a71cd47",
   "metadata": {},
   "outputs": [],
   "source": [
    "dl = DataLoader('data/jokes.csv', 'data/rating.csv')"
   ]
  },
  {
   "cell_type": "code",
   "execution_count": 4,
   "id": "6b0a2d29",
   "metadata": {},
   "outputs": [],
   "source": [
    "jk = dl.jokes"
   ]
  },
  {
   "cell_type": "code",
   "execution_count": 5,
   "id": "b1e3409f",
   "metadata": {},
   "outputs": [],
   "source": [
    "tg = dl.train_data.groupby(\"joke_id\").mean()"
   ]
  },
  {
   "cell_type": "code",
   "execution_count": 6,
   "id": "7f163991",
   "metadata": {},
   "outputs": [],
   "source": [
    "jk['len'] = jk.apply(lambda row: len(row['joke_text']), axis=1)"
   ]
  },
  {
   "cell_type": "code",
   "execution_count": 7,
   "id": "2983b8ec",
   "metadata": {},
   "outputs": [],
   "source": [
    "d = pd.merge(tg, jk, on=\"joke_id\")"
   ]
  },
  {
   "cell_type": "code",
   "execution_count": 8,
   "id": "bb8e2b80",
   "metadata": {},
   "outputs": [
    {
     "data": {
      "text/plain": [
       "<AxesSubplot:xlabel='len', ylabel='Rating'>"
      ]
     },
     "execution_count": 8,
     "metadata": {},
     "output_type": "execute_result"
    },
    {
     "data": {
      "image/png": "[encoded data removed]",
      "text/plain": [
       "<Figure size 432x288 with 1 Axes>"
      ]
     },
     "metadata": {
      "needs_background": "light"
     },
     "output_type": "display_data"
    }
   ],
   "source": [
    "d.plot.scatter(x='len', y='Rating')"
   ]
  },
  {
   "cell_type": "code",
   "execution_count": 9,
   "id": "94e74267",
   "metadata": {},
   "outputs": [
    {
     "data": {
      "text/html": [
       "<div>\n",
       "<style scoped>\n",
       "    .dataframe tbody tr th:only-of-type {\n",
       "        vertical-align: middle;\n",
       "    }\n",
       "\n",
       "    .dataframe tbody tr th {\n",
       "        vertical-align: top;\n",
       "    }\n",
       "\n",
       "    .dataframe thead th {\n",
       "        text-align: right;\n",
       "    }\n",
       "</style>\n",
       "<table border=\"1\" class=\"dataframe\">\n",
       "  <thead>\n",
       "    <tr style=\"text-align: right;\">\n",
       "      <th></th>\n",
       "      <th>id</th>\n",
       "      <th>user_id</th>\n",
       "      <th>joke_id</th>\n",
       "      <th>Rating</th>\n",
       "    </tr>\n",
       "  </thead>\n",
       "  <tbody>\n",
       "    <tr>\n",
       "      <th>2</th>\n",
       "      <td>23098_6</td>\n",
       "      <td>23098</td>\n",
       "      <td>6</td>\n",
       "      <td>-6.438</td>\n",
       "    </tr>\n",
       "    <tr>\n",
       "      <th>3</th>\n",
       "      <td>14273_86</td>\n",
       "      <td>14273</td>\n",
       "      <td>86</td>\n",
       "      <td>4.406</td>\n",
       "    </tr>\n",
       "    <tr>\n",
       "      <th>4</th>\n",
       "      <td>18419_134</td>\n",
       "      <td>18419</td>\n",
       "      <td>134</td>\n",
       "      <td>9.375</td>\n",
       "    </tr>\n",
       "    <tr>\n",
       "      <th>5</th>\n",
       "      <td>5782_14</td>\n",
       "      <td>5782</td>\n",
       "      <td>14</td>\n",
       "      <td>-1.781</td>\n",
       "    </tr>\n",
       "    <tr>\n",
       "      <th>6</th>\n",
       "      <td>34059_62</td>\n",
       "      <td>34059</td>\n",
       "      <td>62</td>\n",
       "      <td>6.250</td>\n",
       "    </tr>\n",
       "    <tr>\n",
       "      <th>...</th>\n",
       "      <td>...</td>\n",
       "      <td>...</td>\n",
       "      <td>...</td>\n",
       "      <td>...</td>\n",
       "    </tr>\n",
       "    <tr>\n",
       "      <th>1092053</th>\n",
       "      <td>4860_62</td>\n",
       "      <td>4860</td>\n",
       "      <td>62</td>\n",
       "      <td>9.000</td>\n",
       "    </tr>\n",
       "    <tr>\n",
       "      <th>1092054</th>\n",
       "      <td>9517_132</td>\n",
       "      <td>9517</td>\n",
       "      <td>132</td>\n",
       "      <td>3.156</td>\n",
       "    </tr>\n",
       "    <tr>\n",
       "      <th>1092056</th>\n",
       "      <td>10580_81</td>\n",
       "      <td>10580</td>\n",
       "      <td>81</td>\n",
       "      <td>2.000</td>\n",
       "    </tr>\n",
       "    <tr>\n",
       "      <th>1092057</th>\n",
       "      <td>31007_119</td>\n",
       "      <td>31007</td>\n",
       "      <td>119</td>\n",
       "      <td>8.906</td>\n",
       "    </tr>\n",
       "    <tr>\n",
       "      <th>1092058</th>\n",
       "      <td>8420_98</td>\n",
       "      <td>8420</td>\n",
       "      <td>98</td>\n",
       "      <td>-3.344</td>\n",
       "    </tr>\n",
       "  </tbody>\n",
       "</table>\n",
       "<p>873647 rows × 4 columns</p>\n",
       "</div>"
      ],
      "text/plain": [
       "                id  user_id  joke_id  Rating\n",
       "2          23098_6    23098        6  -6.438\n",
       "3         14273_86    14273       86   4.406\n",
       "4        18419_134    18419      134   9.375\n",
       "5          5782_14     5782       14  -1.781\n",
       "6         34059_62    34059       62   6.250\n",
       "...            ...      ...      ...     ...\n",
       "1092053    4860_62     4860       62   9.000\n",
       "1092054   9517_132     9517      132   3.156\n",
       "1092056   10580_81    10580       81   2.000\n",
       "1092057  31007_119    31007      119   8.906\n",
       "1092058    8420_98     8420       98  -3.344\n",
       "\n",
       "[873647 rows x 4 columns]"
      ]
     },
     "execution_count": 9,
     "metadata": {},
     "output_type": "execute_result"
    }
   ],
   "source": [
    "dl.train_data"
   ]
  },
  {
   "cell_type": "code",
   "execution_count": 10,
   "id": "2a6f06ea",
   "metadata": {},
   "outputs": [],
   "source": [
    "dd = dl.train_data.groupby(\"user_id\").size()"
   ]
  },
  {
   "cell_type": "code",
   "execution_count": 11,
   "id": "78b75db8",
   "metadata": {},
   "outputs": [
    {
     "data": {
      "text/plain": [
       "user_id\n",
       "8001      1\n",
       "15589     1\n",
       "15594     2\n",
       "3343      2\n",
       "4191      2\n",
       "         ..\n",
       "366      78\n",
       "38269    79\n",
       "21997    79\n",
       "233      79\n",
       "3950     80\n",
       "Length: 40863, dtype: int64"
      ]
     },
     "execution_count": 11,
     "metadata": {},
     "output_type": "execute_result"
    }
   ],
   "source": [
    "dd.sort_values()"
   ]
  },
  {
   "cell_type": "code",
   "execution_count": 12,
   "id": "9b6d8df2",
   "metadata": {},
   "outputs": [],
   "source": [
    "df = pd.merge(dl.train_data, jk, on=\"joke_id\")"
   ]
  },
  {
   "cell_type": "code",
   "execution_count": 13,
   "id": "e4c9a188",
   "metadata": {},
   "outputs": [],
   "source": [
    "an = df.loc[:, [\"user_id\", \"Rating\", \"len\"]]"
   ]
  },
  {
   "cell_type": "code",
   "execution_count": 14,
   "id": "025fd1de",
   "metadata": {},
   "outputs": [],
   "source": [
    "r =an.groupby(\"user_id\").mean()"
   ]
  },
  {
   "cell_type": "code",
   "execution_count": 15,
   "id": "5567472e",
   "metadata": {},
   "outputs": [
    {
     "data": {
      "text/plain": [
       "array([[<AxesSubplot:title={'center':'Rating'}>,\n",
       "        <AxesSubplot:title={'center':'len'}>]], dtype=object)"
      ]
     },
     "execution_count": 15,
     "metadata": {},
     "output_type": "execute_result"
    },
    {
     "data": {
      "image/png": "[encoded data removed]",
      "text/plain": [
       "<Figure size 432x288 with 2 Axes>"
      ]
     },
     "metadata": {
      "needs_background": "light"
     },
     "output_type": "display_data"
    }
   ],
   "source": [
    "r.hist(bins=10)"
   ]
  },
  {
   "cell_type": "code",
   "execution_count": 16,
   "id": "19cf47c9",
   "metadata": {},
   "outputs": [
    {
     "data": {
      "text/plain": [
       "<AxesSubplot:xlabel='len', ylabel='Rating'>"
      ]
     },
     "execution_count": 16,
     "metadata": {},
     "output_type": "execute_result"
    },
    {
     "data": {
      "image/png": "[encoded data removed]",
      "text/plain": [
       "<Figure size 432x288 with 1 Axes>"
      ]
     },
     "metadata": {
      "needs_background": "light"
     },
     "output_type": "display_data"
    }
   ],
   "source": [
    "an[an[\"user_id\"] == 367].loc[:, [\"Rating\", \"len\"]].plot.scatter(x='len', y='Rating')"
   ]
  },
  {
   "cell_type": "code",
   "execution_count": 17,
   "id": "64d70e84",
   "metadata": {},
   "outputs": [
    {
     "data": {
      "text/plain": [
       "<AxesSubplot:xlabel='len', ylabel='Rating'>"
      ]
     },
     "execution_count": 17,
     "metadata": {},
     "output_type": "execute_result"
    },
    {
     "data": {
      "image/png": "[encoded data removed]",
      "text/plain": [
       "<Figure size 432x288 with 1 Axes>"
      ]
     },
     "metadata": {
      "needs_background": "light"
     },
     "output_type": "display_data"
    }
   ],
   "source": [
    "an[an[\"user_id\"] == 233].loc[:, [\"Rating\", \"len\"]].plot.scatter(x='len', y='Rating')"
   ]
  },
  {
   "cell_type": "code",
   "execution_count": 18,
   "id": "c4f745b2",
   "metadata": {
    "scrolled": true
   },
   "outputs": [
    {
     "data": {
      "text/plain": [
       "<AxesSubplot:xlabel='len', ylabel='Rating'>"
      ]
     },
     "execution_count": 18,
     "metadata": {},
     "output_type": "execute_result"
    },
    {
     "data": {
      "image/png": "[encoded data removed]",
      "text/plain": [
       "<Figure size 432x288 with 1 Axes>"
      ]
     },
     "metadata": {
      "needs_background": "light"
     },
     "output_type": "display_data"
    }
   ],
   "source": [
    "an[an[\"user_id\"] == 16802].loc[:, [\"Rating\", \"len\"]].plot.scatter(x='len', y='Rating')"
   ]
  },
  {
   "cell_type": "code",
   "execution_count": 19,
   "id": "e3841b44",
   "metadata": {},
   "outputs": [],
   "source": [
    "from src.embeddings import BagOfWords, TFIDF, remove_punctuation, Embedding"
   ]
  },
  {
   "cell_type": "code",
   "execution_count": 20,
   "id": "2c1334a7",
   "metadata": {},
   "outputs": [],
   "source": [
    "from src.text_similarity_models import CosineSimilarity, TextSimilarityModel"
   ]
  },
  {
   "cell_type": "code",
   "execution_count": 21,
   "id": "ffba8965",
   "metadata": {},
   "outputs": [],
   "source": [
    "pre = [remove_punctuation(x) for x in dl.jokes['joke_text']]"
   ]
  },
  {
   "cell_type": "code",
   "execution_count": 22,
   "id": "6ea9433d",
   "metadata": {},
   "outputs": [],
   "source": [
    "emb = BagOfWords(pre)"
   ]
  },
  {
   "cell_type": "code",
   "execution_count": 23,
   "id": "a5ec3cd9",
   "metadata": {},
   "outputs": [],
   "source": [
    "cos_d = CosineSimilarity(emb)"
   ]
  },
  {
   "cell_type": "code",
   "execution_count": 24,
   "id": "cffdfd8d",
   "metadata": {},
   "outputs": [],
   "source": [
    "import numpy as np"
   ]
  },
  {
   "cell_type": "code",
   "execution_count": 28,
   "id": "e3c7522a",
   "metadata": {},
   "outputs": [],
   "source": [
    "from src.full_text_models import FullPreprocessingTFIDFCosineModel, FullPreprocessingBertCosineModel, BertCosineModel"
   ]
  },
  {
   "cell_type": "code",
   "execution_count": 29,
   "id": "7da6270d",
   "metadata": {},
   "outputs": [],
   "source": [
    "sentences = [\n",
    "    \"My favorite subject is Linux in embedded systems\",\n",
    "    \"Linux is very cool\",\n",
    "    \"Machine learning is easy\",\n",
    "    \"I like chocolate ice creams\",\n",
    "    \"Chocolate ice creams are my favorite\",\n",
    "    \"I love Linux\"\n",
    "]"
   ]
  },
  {
   "cell_type": "code",
   "execution_count": 30,
   "id": "eaf67488",
   "metadata": {},
   "outputs": [],
   "source": [
    "model = FullPreprocessingTFIDFCosineModel(sentences)"
   ]
  },
  {
   "cell_type": "code",
   "execution_count": 34,
   "id": "5bc50201",
   "metadata": {},
   "outputs": [
    {
     "data": {
      "text/plain": [
       "0.0743345849441918"
      ]
     },
     "execution_count": 34,
     "metadata": {},
     "output_type": "execute_result"
    }
   ],
   "source": [
    "model.get_similarity(sentences[0], sentences[5])"
   ]
  },
  {
   "cell_type": "code",
   "execution_count": 35,
   "id": "97468f4d",
   "metadata": {},
   "outputs": [],
   "source": [
    "smart_model = FullPreprocessingBertCosineModel()"
   ]
  },
  {
   "cell_type": "code",
   "execution_count": 36,
   "id": "e1a2c1b6",
   "metadata": {},
   "outputs": [
    {
     "data": {
      "text/plain": [
       "['My favorite subject is Linux in embedded systems',\n",
       " 'Linux is very cool',\n",
       " 'Machine learning is easy',\n",
       " 'I like chocolate ice creams',\n",
       " 'Chocolate ice creams are my favorite',\n",
       " 'I love Linux']"
      ]
     },
     "execution_count": 36,
     "metadata": {},
     "output_type": "execute_result"
    }
   ],
   "source": [
    "sentences"
   ]
  },
  {
   "cell_type": "code",
   "execution_count": 37,
   "id": "0466ead2",
   "metadata": {},
   "outputs": [
    {
     "data": {
      "text/plain": [
       "0.08075666"
      ]
     },
     "execution_count": 37,
     "metadata": {},
     "output_type": "execute_result"
    }
   ],
   "source": [
    "smart_model.get_similarity(sentences[1], sentences[4])"
   ]
  },
  {
   "cell_type": "code",
   "execution_count": 38,
   "id": "d58bf4be",
   "metadata": {},
   "outputs": [],
   "source": [
    "without_processing = BertCosineModel()"
   ]
  },
  {
   "cell_type": "code",
   "execution_count": 39,
   "id": "16906da0",
   "metadata": {},
   "outputs": [
    {
     "data": {
      "text/plain": [
       "0.07987223"
      ]
     },
     "execution_count": 39,
     "metadata": {},
     "output_type": "execute_result"
    }
   ],
   "source": [
    "without_processing.get_similarity(sentences[1], sentences[4])"
   ]
  },
  {
   "cell_type": "code",
   "execution_count": 40,
   "id": "ba345e2f",
   "metadata": {},
   "outputs": [
    {
     "data": {
      "text/plain": [
       "0.84260243"
      ]
     },
     "execution_count": 40,
     "metadata": {},
     "output_type": "execute_result"
    }
   ],
   "source": [
    "without_processing.get_similarity(\"I love fish\", \"I like fish\")"
   ]
  },
  {
   "cell_type": "code",
   "execution_count": 41,
   "id": "b41358fb",
   "metadata": {},
   "outputs": [
    {
     "data": {
      "text/plain": [
       "0.78983355"
      ]
     },
     "execution_count": 41,
     "metadata": {},
     "output_type": "execute_result"
    }
   ],
   "source": [
    "without_processing.get_similarity(\"The black cat came into the room\", \"Dark cat is is the room\")"
   ]
  },
  {
   "cell_type": "code",
   "execution_count": 42,
   "id": "664e3af5",
   "metadata": {},
   "outputs": [
    {
     "data": {
      "text/plain": [
       "0.7956541"
      ]
     },
     "execution_count": 42,
     "metadata": {},
     "output_type": "execute_result"
    }
   ],
   "source": [
    "smart_model.get_similarity(\"The black cat came into the room\", \"Dark cat is is the room\")"
   ]
  },
  {
   "cell_type": "code",
   "execution_count": 43,
   "id": "9b24c3c0",
   "metadata": {},
   "outputs": [
    {
     "data": {
      "text/plain": [
       "0.8735078"
      ]
     },
     "execution_count": 43,
     "metadata": {},
     "output_type": "execute_result"
    }
   ],
   "source": [
    "smart_model.get_similarity(\"Seals eat fish\", \"Seals like fish\")"
   ]
  },
  {
   "cell_type": "code",
   "execution_count": 44,
   "id": "2a06904f",
   "metadata": {},
   "outputs": [],
   "source": [
    "jokes = dl.jokes['joke_text'].tolist()"
   ]
  },
  {
   "cell_type": "code",
   "execution_count": 45,
   "id": "772d6fd8",
   "metadata": {},
   "outputs": [],
   "source": [
    "model_1 = FullPreprocessingTFIDFCosineModel(jokes)"
   ]
  },
  {
   "cell_type": "code",
   "execution_count": 46,
   "id": "15d92d49",
   "metadata": {},
   "outputs": [],
   "source": [
    "model_2 = FullPreprocessingBertCosineModel()"
   ]
  },
  {
   "cell_type": "code",
   "execution_count": 47,
   "id": "e65f7115",
   "metadata": {},
   "outputs": [],
   "source": [
    "model_3 = BertCosineModel()"
   ]
  },
  {
   "cell_type": "code",
   "execution_count": 50,
   "id": "cb998001",
   "metadata": {},
   "outputs": [
    {
     "data": {
      "text/plain": [
       "0.055226924081678105"
      ]
     },
     "execution_count": 50,
     "metadata": {},
     "output_type": "execute_result"
    }
   ],
   "source": [
    "model_1.get_similarity(jokes[11], jokes[10])"
   ]
  },
  {
   "cell_type": "code",
   "execution_count": 51,
   "id": "a6923da8",
   "metadata": {},
   "outputs": [
    {
     "data": {
      "text/plain": [
       "0.18101057"
      ]
     },
     "execution_count": 51,
     "metadata": {},
     "output_type": "execute_result"
    }
   ],
   "source": [
    "model_2.get_similarity(jokes[11], jokes[10])"
   ]
  },
  {
   "cell_type": "code",
   "execution_count": 52,
   "id": "8299ff79",
   "metadata": {},
   "outputs": [
    {
     "data": {
      "text/plain": [
       "0.28632623"
      ]
     },
     "execution_count": 52,
     "metadata": {},
     "output_type": "execute_result"
    }
   ],
   "source": [
    "model_3.get_similarity(jokes[11], jokes[10])"
   ]
  },
  {
   "cell_type": "code",
   "execution_count": 177,
   "id": "8e091fe5",
   "metadata": {},
   "outputs": [
    {
     "data": {
      "text/html": [
       "<div>\n",
       "<style scoped>\n",
       "    .dataframe tbody tr th:only-of-type {\n",
       "        vertical-align: middle;\n",
       "    }\n",
       "\n",
       "    .dataframe tbody tr th {\n",
       "        vertical-align: top;\n",
       "    }\n",
       "\n",
       "    .dataframe thead th {\n",
       "        text-align: right;\n",
       "    }\n",
       "</style>\n",
       "<table border=\"1\" class=\"dataframe\">\n",
       "  <thead>\n",
       "    <tr style=\"text-align: right;\">\n",
       "      <th></th>\n",
       "      <th>id</th>\n",
       "      <th>joke_id</th>\n",
       "      <th>Rating</th>\n",
       "      <th>joke_text</th>\n",
       "      <th>len</th>\n",
       "    </tr>\n",
       "    <tr>\n",
       "      <th>user_id</th>\n",
       "      <th></th>\n",
       "      <th></th>\n",
       "      <th></th>\n",
       "      <th></th>\n",
       "      <th></th>\n",
       "    </tr>\n",
       "  </thead>\n",
       "  <tbody>\n",
       "    <tr>\n",
       "      <th>8001</th>\n",
       "      <td>1</td>\n",
       "      <td>1</td>\n",
       "      <td>1</td>\n",
       "      <td>1</td>\n",
       "      <td>1</td>\n",
       "    </tr>\n",
       "    <tr>\n",
       "      <th>15589</th>\n",
       "      <td>1</td>\n",
       "      <td>1</td>\n",
       "      <td>1</td>\n",
       "      <td>1</td>\n",
       "      <td>1</td>\n",
       "    </tr>\n",
       "    <tr>\n",
       "      <th>15594</th>\n",
       "      <td>2</td>\n",
       "      <td>2</td>\n",
       "      <td>2</td>\n",
       "      <td>2</td>\n",
       "      <td>2</td>\n",
       "    </tr>\n",
       "    <tr>\n",
       "      <th>3343</th>\n",
       "      <td>2</td>\n",
       "      <td>2</td>\n",
       "      <td>2</td>\n",
       "      <td>2</td>\n",
       "      <td>2</td>\n",
       "    </tr>\n",
       "    <tr>\n",
       "      <th>4191</th>\n",
       "      <td>2</td>\n",
       "      <td>2</td>\n",
       "      <td>2</td>\n",
       "      <td>2</td>\n",
       "      <td>2</td>\n",
       "    </tr>\n",
       "    <tr>\n",
       "      <th>...</th>\n",
       "      <td>...</td>\n",
       "      <td>...</td>\n",
       "      <td>...</td>\n",
       "      <td>...</td>\n",
       "      <td>...</td>\n",
       "    </tr>\n",
       "    <tr>\n",
       "      <th>366</th>\n",
       "      <td>78</td>\n",
       "      <td>78</td>\n",
       "      <td>78</td>\n",
       "      <td>78</td>\n",
       "      <td>78</td>\n",
       "    </tr>\n",
       "    <tr>\n",
       "      <th>38269</th>\n",
       "      <td>79</td>\n",
       "      <td>79</td>\n",
       "      <td>79</td>\n",
       "      <td>79</td>\n",
       "      <td>79</td>\n",
       "    </tr>\n",
       "    <tr>\n",
       "      <th>21997</th>\n",
       "      <td>79</td>\n",
       "      <td>79</td>\n",
       "      <td>79</td>\n",
       "      <td>79</td>\n",
       "      <td>79</td>\n",
       "    </tr>\n",
       "    <tr>\n",
       "      <th>233</th>\n",
       "      <td>79</td>\n",
       "      <td>79</td>\n",
       "      <td>79</td>\n",
       "      <td>79</td>\n",
       "      <td>79</td>\n",
       "    </tr>\n",
       "    <tr>\n",
       "      <th>3950</th>\n",
       "      <td>80</td>\n",
       "      <td>80</td>\n",
       "      <td>80</td>\n",
       "      <td>80</td>\n",
       "      <td>80</td>\n",
       "    </tr>\n",
       "  </tbody>\n",
       "</table>\n",
       "<p>40863 rows × 5 columns</p>\n",
       "</div>"
      ],
      "text/plain": [
       "         id  joke_id  Rating  joke_text  len\n",
       "user_id                                     \n",
       "8001      1        1       1          1    1\n",
       "15589     1        1       1          1    1\n",
       "15594     2        2       2          2    2\n",
       "3343      2        2       2          2    2\n",
       "4191      2        2       2          2    2\n",
       "...      ..      ...     ...        ...  ...\n",
       "366      78       78      78         78   78\n",
       "38269    79       79      79         79   79\n",
       "21997    79       79      79         79   79\n",
       "233      79       79      79         79   79\n",
       "3950     80       80      80         80   80\n",
       "\n",
       "[40863 rows x 5 columns]"
      ]
     },
     "execution_count": 177,
     "metadata": {},
     "output_type": "execute_result"
    }
   ],
   "source": [
    "df.groupby(\"user_id\").count().sort_values(\"id\")"
   ]
  },
  {
   "cell_type": "code",
   "execution_count": 178,
   "id": "af4e5aed",
   "metadata": {},
   "outputs": [],
   "source": [
    "dff = df[df[\"user_id\"] == 3950].loc[:, [\"Rating\", \"joke_text\", \"joke_id\"]]"
   ]
  },
  {
   "cell_type": "code",
   "execution_count": 54,
   "id": "71aca341",
   "metadata": {},
   "outputs": [
    {
     "data": {
      "text/html": [
       "<div>\n",
       "<style scoped>\n",
       "    .dataframe tbody tr th:only-of-type {\n",
       "        vertical-align: middle;\n",
       "    }\n",
       "\n",
       "    .dataframe tbody tr th {\n",
       "        vertical-align: top;\n",
       "    }\n",
       "\n",
       "    .dataframe thead th {\n",
       "        text-align: right;\n",
       "    }\n",
       "</style>\n",
       "<table border=\"1\" class=\"dataframe\">\n",
       "  <thead>\n",
       "    <tr style=\"text-align: right;\">\n",
       "      <th></th>\n",
       "      <th>Rating</th>\n",
       "      <th>joke_text</th>\n",
       "    </tr>\n",
       "  </thead>\n",
       "  <tbody>\n",
       "    <tr>\n",
       "      <th>809564</th>\n",
       "      <td>-9.188</td>\n",
       "      <td>Did you hear about the Buddhist who refused No...</td>\n",
       "    </tr>\n",
       "    <tr>\n",
       "      <th>775437</th>\n",
       "      <td>-8.938</td>\n",
       "      <td>How many Irishmen does it take to change a lig...</td>\n",
       "    </tr>\n",
       "    <tr>\n",
       "      <th>362863</th>\n",
       "      <td>-8.469</td>\n",
       "      <td>When most people claim to be \"killing time\", i...</td>\n",
       "    </tr>\n",
       "    <tr>\n",
       "      <th>129052</th>\n",
       "      <td>-8.438</td>\n",
       "      <td>A Briton, a Frenchman and a Russian are viewin...</td>\n",
       "    </tr>\n",
       "    <tr>\n",
       "      <th>730121</th>\n",
       "      <td>-8.375</td>\n",
       "      <td>An astronomer, a physicist and a mathematician...</td>\n",
       "    </tr>\n",
       "    <tr>\n",
       "      <th>...</th>\n",
       "      <td>...</td>\n",
       "      <td>...</td>\n",
       "    </tr>\n",
       "    <tr>\n",
       "      <th>252986</th>\n",
       "      <td>8.844</td>\n",
       "      <td>A guy goes into confession and says to the pri...</td>\n",
       "    </tr>\n",
       "    <tr>\n",
       "      <th>198282</th>\n",
       "      <td>8.844</td>\n",
       "      <td>An American tourist goes into a restaurant in ...</td>\n",
       "    </tr>\n",
       "    <tr>\n",
       "      <th>451542</th>\n",
       "      <td>8.875</td>\n",
       "      <td>A group of managers were given the assignment ...</td>\n",
       "    </tr>\n",
       "    <tr>\n",
       "      <th>175444</th>\n",
       "      <td>9.781</td>\n",
       "      <td>A little girl asked her father, \"Daddy? Do all...</td>\n",
       "    </tr>\n",
       "    <tr>\n",
       "      <th>828500</th>\n",
       "      <td>9.906</td>\n",
       "      <td>A man who recently completed a routine physica...</td>\n",
       "    </tr>\n",
       "  </tbody>\n",
       "</table>\n",
       "<p>79 rows × 2 columns</p>\n",
       "</div>"
      ],
      "text/plain": [
       "        Rating                                          joke_text\n",
       "809564  -9.188  Did you hear about the Buddhist who refused No...\n",
       "775437  -8.938  How many Irishmen does it take to change a lig...\n",
       "362863  -8.469  When most people claim to be \"killing time\", i...\n",
       "129052  -8.438  A Briton, a Frenchman and a Russian are viewin...\n",
       "730121  -8.375  An astronomer, a physicist and a mathematician...\n",
       "...        ...                                                ...\n",
       "252986   8.844  A guy goes into confession and says to the pri...\n",
       "198282   8.844  An American tourist goes into a restaurant in ...\n",
       "451542   8.875  A group of managers were given the assignment ...\n",
       "175444   9.781  A little girl asked her father, \"Daddy? Do all...\n",
       "828500   9.906  A man who recently completed a routine physica...\n",
       "\n",
       "[79 rows x 2 columns]"
      ]
     },
     "execution_count": 54,
     "metadata": {},
     "output_type": "execute_result"
    }
   ],
   "source": [
    "dff.sort_values(\"Rating\")"
   ]
  },
  {
   "cell_type": "code",
   "execution_count": 57,
   "id": "1255029c",
   "metadata": {},
   "outputs": [
    {
     "data": {
      "text/html": [
       "<div>\n",
       "<style scoped>\n",
       "    .dataframe tbody tr th:only-of-type {\n",
       "        vertical-align: middle;\n",
       "    }\n",
       "\n",
       "    .dataframe tbody tr th {\n",
       "        vertical-align: top;\n",
       "    }\n",
       "\n",
       "    .dataframe thead th {\n",
       "        text-align: right;\n",
       "    }\n",
       "</style>\n",
       "<table border=\"1\" class=\"dataframe\">\n",
       "  <thead>\n",
       "    <tr style=\"text-align: right;\">\n",
       "      <th></th>\n",
       "      <th>id</th>\n",
       "      <th>user_id</th>\n",
       "      <th>joke_id</th>\n",
       "      <th>Rating</th>\n",
       "      <th>joke_text</th>\n",
       "      <th>len</th>\n",
       "    </tr>\n",
       "  </thead>\n",
       "  <tbody>\n",
       "    <tr>\n",
       "      <th>0</th>\n",
       "      <td>23098_6</td>\n",
       "      <td>23098</td>\n",
       "      <td>6</td>\n",
       "      <td>-6.438</td>\n",
       "      <td>Q. What is orange and sounds like a parrot? A....</td>\n",
       "      <td>56</td>\n",
       "    </tr>\n",
       "    <tr>\n",
       "      <th>1</th>\n",
       "      <td>18_6</td>\n",
       "      <td>18</td>\n",
       "      <td>6</td>\n",
       "      <td>-8.250</td>\n",
       "      <td>Q. What is orange and sounds like a parrot? A....</td>\n",
       "      <td>56</td>\n",
       "    </tr>\n",
       "    <tr>\n",
       "      <th>2</th>\n",
       "      <td>32451_6</td>\n",
       "      <td>32451</td>\n",
       "      <td>6</td>\n",
       "      <td>0.562</td>\n",
       "      <td>Q. What is orange and sounds like a parrot? A....</td>\n",
       "      <td>56</td>\n",
       "    </tr>\n",
       "    <tr>\n",
       "      <th>3</th>\n",
       "      <td>20518_6</td>\n",
       "      <td>20518</td>\n",
       "      <td>6</td>\n",
       "      <td>-4.219</td>\n",
       "      <td>Q. What is orange and sounds like a parrot? A....</td>\n",
       "      <td>56</td>\n",
       "    </tr>\n",
       "    <tr>\n",
       "      <th>4</th>\n",
       "      <td>11438_6</td>\n",
       "      <td>11438</td>\n",
       "      <td>6</td>\n",
       "      <td>-4.625</td>\n",
       "      <td>Q. What is orange and sounds like a parrot? A....</td>\n",
       "      <td>56</td>\n",
       "    </tr>\n",
       "    <tr>\n",
       "      <th>...</th>\n",
       "      <td>...</td>\n",
       "      <td>...</td>\n",
       "      <td>...</td>\n",
       "      <td>...</td>\n",
       "      <td>...</td>\n",
       "      <td>...</td>\n",
       "    </tr>\n",
       "    <tr>\n",
       "      <th>873642</th>\n",
       "      <td>446_90</td>\n",
       "      <td>446</td>\n",
       "      <td>90</td>\n",
       "      <td>-1.969</td>\n",
       "      <td>Q: Whats the difference between greeting a que...</td>\n",
       "      <td>153</td>\n",
       "    </tr>\n",
       "    <tr>\n",
       "      <th>873643</th>\n",
       "      <td>262_90</td>\n",
       "      <td>262</td>\n",
       "      <td>90</td>\n",
       "      <td>1.812</td>\n",
       "      <td>Q: Whats the difference between greeting a que...</td>\n",
       "      <td>153</td>\n",
       "    </tr>\n",
       "    <tr>\n",
       "      <th>873644</th>\n",
       "      <td>100_90</td>\n",
       "      <td>100</td>\n",
       "      <td>90</td>\n",
       "      <td>2.062</td>\n",
       "      <td>Q: Whats the difference between greeting a que...</td>\n",
       "      <td>153</td>\n",
       "    </tr>\n",
       "    <tr>\n",
       "      <th>873645</th>\n",
       "      <td>464_90</td>\n",
       "      <td>464</td>\n",
       "      <td>90</td>\n",
       "      <td>-0.344</td>\n",
       "      <td>Q: Whats the difference between greeting a que...</td>\n",
       "      <td>153</td>\n",
       "    </tr>\n",
       "    <tr>\n",
       "      <th>873646</th>\n",
       "      <td>370_90</td>\n",
       "      <td>370</td>\n",
       "      <td>90</td>\n",
       "      <td>2.031</td>\n",
       "      <td>Q: Whats the difference between greeting a que...</td>\n",
       "      <td>153</td>\n",
       "    </tr>\n",
       "  </tbody>\n",
       "</table>\n",
       "<p>873647 rows × 6 columns</p>\n",
       "</div>"
      ],
      "text/plain": [
       "             id  user_id  joke_id  Rating  \\\n",
       "0       23098_6    23098        6  -6.438   \n",
       "1          18_6       18        6  -8.250   \n",
       "2       32451_6    32451        6   0.562   \n",
       "3       20518_6    20518        6  -4.219   \n",
       "4       11438_6    11438        6  -4.625   \n",
       "...         ...      ...      ...     ...   \n",
       "873642   446_90      446       90  -1.969   \n",
       "873643   262_90      262       90   1.812   \n",
       "873644   100_90      100       90   2.062   \n",
       "873645   464_90      464       90  -0.344   \n",
       "873646   370_90      370       90   2.031   \n",
       "\n",
       "                                                joke_text  len  \n",
       "0       Q. What is orange and sounds like a parrot? A....   56  \n",
       "1       Q. What is orange and sounds like a parrot? A....   56  \n",
       "2       Q. What is orange and sounds like a parrot? A....   56  \n",
       "3       Q. What is orange and sounds like a parrot? A....   56  \n",
       "4       Q. What is orange and sounds like a parrot? A....   56  \n",
       "...                                                   ...  ...  \n",
       "873642  Q: Whats the difference between greeting a que...  153  \n",
       "873643  Q: Whats the difference between greeting a que...  153  \n",
       "873644  Q: Whats the difference between greeting a que...  153  \n",
       "873645  Q: Whats the difference between greeting a que...  153  \n",
       "873646  Q: Whats the difference between greeting a que...  153  \n",
       "\n",
       "[873647 rows x 6 columns]"
      ]
     },
     "execution_count": 57,
     "metadata": {},
     "output_type": "execute_result"
    }
   ],
   "source": [
    "df"
   ]
  },
  {
   "cell_type": "code",
   "execution_count": 59,
   "id": "8a47cf20",
   "metadata": {},
   "outputs": [],
   "source": [
    "from sklearn.cluster import dbscan"
   ]
  },
  {
   "cell_type": "code",
   "execution_count": 77,
   "id": "4cff59f4",
   "metadata": {},
   "outputs": [
    {
     "data": {
      "text/plain": [
       "0.5204454576736337"
      ]
     },
     "execution_count": 77,
     "metadata": {},
     "output_type": "execute_result"
    }
   ],
   "source": [
    "model_1.get_similarity(jokes[1], jokes[6])"
   ]
  },
  {
   "cell_type": "code",
   "execution_count": 84,
   "id": "6cffbb06",
   "metadata": {},
   "outputs": [
    {
     "data": {
      "text/plain": [
       "(array([  1,   2,   3,   4,   5,   6,   7,   8,  10,  11,  12,  14,  15,\n",
       "         16,  17,  18,  19,  20,  21,  22,  23,  24,  25,  26,  27,  29,\n",
       "         31,  33,  34,  35,  36,  37,  38,  39,  41,  42,  45,  47,  50,\n",
       "         51,  52,  54,  55,  57,  58,  59,  60,  61,  62,  63,  65,  67,\n",
       "         69,  70,  71,  72,  73,  74,  75,  76,  79,  80,  81,  82,  83,\n",
       "         85,  89,  90,  92,  93,  94,  95,  96,  97,  98,  99, 100, 101,\n",
       "        102, 103, 104, 105, 106, 107, 108, 109, 110, 111, 112, 113, 114,\n",
       "        115, 116, 117, 118, 119, 120, 122, 123, 124, 125, 126, 129, 131,\n",
       "        132, 133, 134, 135, 136, 137]),\n",
       " array([-1,  0,  1,  1,  1,  2,  0,  1,  3, -1,  1,  1,  2, -1,  1,  1,  1,\n",
       "         1,  1,  1,  1,  1,  3,  1,  1,  1,  1,  1, -1,  0, -1,  1, -1,  1,\n",
       "         1,  1,  1,  1,  1,  1, -1,  1,  1, -1, -1,  1, -1,  0, -1, -1,  1,\n",
       "         1,  1, -1,  1,  1, -1,  1,  1,  1,  1,  1,  1,  0, -1,  1, -1,  1,\n",
       "        -1,  1,  1,  0,  1,  1,  0,  1,  1, -1, -1,  0,  1,  1,  1,  1, -1,\n",
       "         1, -1, -1, -1,  1,  1, -1,  1,  1,  1,  1,  1,  1,  1,  1,  1,  1,\n",
       "         1,  1,  1,  1,  1,  1,  1,  1,  1,  1,  4,  1,  1,  1,  1,  1,  1,\n",
       "         1,  1, -1,  1,  1,  1,  1,  1, -1, -1,  4, -1,  1,  1,  1,  1,  1,\n",
       "         1,  1, -1]))"
      ]
     },
     "execution_count": 84,
     "metadata": {},
     "output_type": "execute_result"
    }
   ],
   "source": [
    "def metric(x: int, y: int):\n",
    "    return 1 - model_3.get_similarity(jokes[int(x[0])], jokes[int(y[0])])\n",
    "\n",
    "X = np.arange(len(jokes)).reshape(-1, 1)\n",
    "dbscan(X, metric=metric, eps=0.6, min_samples=2)"
   ]
  },
  {
   "cell_type": "code",
   "execution_count": 133,
   "id": "2fd7fc96",
   "metadata": {},
   "outputs": [
    {
     "data": {
      "text/plain": [
       "(array([  1,   2,   3,   4,   5,   6,   7,   8,  11,  12,  15,  16,  17,\n",
       "         18,  20,  21,  23,  24,  25,  26,  27,  28,  29,  31,  33,  34,\n",
       "         35,  36,  37,  38,  39,  41,  42,  43,  44,  45,  47,  50,  51,\n",
       "         52,  54,  55,  56,  57,  58,  59,  60,  61,  62,  63,  65,  70,\n",
       "         74,  75,  76,  79,  80,  81,  82,  85,  86,  92,  93,  94,  95,\n",
       "         97,  98,  99, 100, 101, 102, 103, 104, 105, 106, 107, 108, 109,\n",
       "        110, 112, 113, 114, 116, 117, 118, 119, 120, 122, 123, 124, 125,\n",
       "        129, 131, 132, 133, 134, 135, 136, 137, 138]),\n",
       " array([-1,  0,  1,  1,  1,  2,  0,  1,  1, -1, -1,  1,  2, -1, -1,  1,  1,\n",
       "         1,  1, -1,  1,  1, -1,  1,  1,  1,  1,  1,  1,  0, -1,  1, -1,  1,\n",
       "         1,  1,  1,  1,  1,  1, -1,  3,  1,  1,  1,  1, -1,  0, -1, -1,  1,\n",
       "         1,  1, -1,  1,  1,  1,  1,  1,  1,  1,  1,  3,  0, -1,  1, -1, -1,\n",
       "        -1, -1,  1, -1, -1, -1,  0,  1,  1, -1, -1,  0,  1,  1,  1, -1, -1,\n",
       "         1,  1, -1, -1, -1, -1, -1,  1,  1,  1,  1, -1,  1,  1,  1,  1,  1,\n",
       "         1,  1,  1,  1,  1,  1,  1,  1,  1, -1,  4,  1,  1, -1,  1,  1,  1,\n",
       "         1,  1, -1,  1,  1,  1,  1, -1, -1, -1,  4, -1,  1,  1,  1,  1,  1,\n",
       "         1,  1,  1]))"
      ]
     },
     "execution_count": 133,
     "metadata": {},
     "output_type": "execute_result"
    }
   ],
   "source": [
    "def metric(x: int, y: int):\n",
    "    return 1 - model_2.get_similarity(jokes[int(x[0])], jokes[int(y[0])])\n",
    "\n",
    "X = np.arange(len(jokes)).reshape(-1, 1)\n",
    "dbscan(X, metric=metric, eps=0.6, min_samples=2)"
   ]
  },
  {
   "cell_type": "code",
   "execution_count": 127,
   "id": "568eec68",
   "metadata": {
    "scrolled": true
   },
   "outputs": [
    {
     "data": {
      "text/plain": [
       "'Q: What did the blind person say when given some matzah? A: Who the hell wrote this?'"
      ]
     },
     "execution_count": 127,
     "metadata": {},
     "output_type": "execute_result"
    }
   ],
   "source": [
    "jokes[4]"
   ]
  },
  {
   "cell_type": "code",
   "execution_count": 126,
   "id": "56404faf",
   "metadata": {},
   "outputs": [
    {
     "data": {
      "text/plain": [
       "'They asked the Japanese visitor if they have elections in his country. \"Every morning,\" he answers.'"
      ]
     },
     "execution_count": 126,
     "metadata": {},
     "output_type": "execute_result"
    }
   ],
   "source": [
    "jokes[3]"
   ]
  },
  {
   "cell_type": "code",
   "execution_count": 119,
   "id": "aca0cb1c",
   "metadata": {},
   "outputs": [
    {
     "data": {
      "text/html": [
       "<div>\n",
       "<style scoped>\n",
       "    .dataframe tbody tr th:only-of-type {\n",
       "        vertical-align: middle;\n",
       "    }\n",
       "\n",
       "    .dataframe tbody tr th {\n",
       "        vertical-align: top;\n",
       "    }\n",
       "\n",
       "    .dataframe thead th {\n",
       "        text-align: right;\n",
       "    }\n",
       "</style>\n",
       "<table border=\"1\" class=\"dataframe\">\n",
       "  <thead>\n",
       "    <tr style=\"text-align: right;\">\n",
       "      <th></th>\n",
       "      <th>Rating</th>\n",
       "      <th>joke_text</th>\n",
       "      <th>joke_id</th>\n",
       "    </tr>\n",
       "  </thead>\n",
       "  <tbody>\n",
       "    <tr>\n",
       "      <th>362863</th>\n",
       "      <td>-8.469</td>\n",
       "      <td>When most people claim to be \"killing time\", i...</td>\n",
       "      <td>113</td>\n",
       "    </tr>\n",
       "  </tbody>\n",
       "</table>\n",
       "</div>"
      ],
      "text/plain": [
       "        Rating                                          joke_text  joke_id\n",
       "362863  -8.469  When most people claim to be \"killing time\", i...      113"
      ]
     },
     "execution_count": 119,
     "metadata": {},
     "output_type": "execute_result"
    }
   ],
   "source": [
    "dff[dff['joke_text'] == jokes[112]]"
   ]
  },
  {
   "cell_type": "code",
   "execution_count": 159,
   "id": "b91f7cf5",
   "metadata": {},
   "outputs": [
    {
     "data": {
      "text/html": [
       "<div>\n",
       "<style scoped>\n",
       "    .dataframe tbody tr th:only-of-type {\n",
       "        vertical-align: middle;\n",
       "    }\n",
       "\n",
       "    .dataframe tbody tr th {\n",
       "        vertical-align: top;\n",
       "    }\n",
       "\n",
       "    .dataframe thead th {\n",
       "        text-align: right;\n",
       "    }\n",
       "</style>\n",
       "<table border=\"1\" class=\"dataframe\">\n",
       "  <thead>\n",
       "    <tr style=\"text-align: right;\">\n",
       "      <th></th>\n",
       "      <th>Rating</th>\n",
       "      <th>joke_text</th>\n",
       "      <th>joke_id</th>\n",
       "    </tr>\n",
       "  </thead>\n",
       "  <tbody>\n",
       "    <tr>\n",
       "      <th>26679</th>\n",
       "      <td>-6.594</td>\n",
       "      <td>Two attorneys went into a diner and ordered tw...</td>\n",
       "      <td>86</td>\n",
       "    </tr>\n",
       "    <tr>\n",
       "      <th>57488</th>\n",
       "      <td>-6.250</td>\n",
       "      <td>Q: If a person who speaks three languages is c...</td>\n",
       "      <td>9</td>\n",
       "    </tr>\n",
       "    <tr>\n",
       "      <th>67897</th>\n",
       "      <td>3.094</td>\n",
       "      <td>Two men are discussing the age old question: w...</td>\n",
       "      <td>32</td>\n",
       "    </tr>\n",
       "    <tr>\n",
       "      <th>86239</th>\n",
       "      <td>-4.562</td>\n",
       "      <td>Q: What is the Australian word for a boomerang...</td>\n",
       "      <td>13</td>\n",
       "    </tr>\n",
       "    <tr>\n",
       "      <th>88992</th>\n",
       "      <td>-5.688</td>\n",
       "      <td>Chuck Norris' calendar goes straight from Marc...</td>\n",
       "      <td>130</td>\n",
       "    </tr>\n",
       "    <tr>\n",
       "      <th>...</th>\n",
       "      <td>...</td>\n",
       "      <td>...</td>\n",
       "      <td>...</td>\n",
       "    </tr>\n",
       "    <tr>\n",
       "      <th>871310</th>\n",
       "      <td>-6.781</td>\n",
       "      <td>America: 8:00 - Welcome to work! 12:00 - Lunch...</td>\n",
       "      <td>136</td>\n",
       "    </tr>\n",
       "    <tr>\n",
       "      <th>872360</th>\n",
       "      <td>-7.312</td>\n",
       "      <td>Q. What's O. J. Simpson's web address? A. Slas...</td>\n",
       "      <td>1</td>\n",
       "    </tr>\n",
       "    <tr>\n",
       "      <th>872604</th>\n",
       "      <td>-5.281</td>\n",
       "      <td>President Clinton looks up from his desk in th...</td>\n",
       "      <td>21</td>\n",
       "    </tr>\n",
       "    <tr>\n",
       "      <th>873069</th>\n",
       "      <td>-7.281</td>\n",
       "      <td>Q: What do Monica Lewinsky and Bob Dole have i...</td>\n",
       "      <td>42</td>\n",
       "    </tr>\n",
       "    <tr>\n",
       "      <th>873546</th>\n",
       "      <td>6.719</td>\n",
       "      <td>Hillary, Bill Clinton and the Pope are sitting...</td>\n",
       "      <td>70</td>\n",
       "    </tr>\n",
       "  </tbody>\n",
       "</table>\n",
       "<p>79 rows × 3 columns</p>\n",
       "</div>"
      ],
      "text/plain": [
       "        Rating                                          joke_text  joke_id\n",
       "26679   -6.594  Two attorneys went into a diner and ordered tw...       86\n",
       "57488   -6.250  Q: If a person who speaks three languages is c...        9\n",
       "67897    3.094  Two men are discussing the age old question: w...       32\n",
       "86239   -4.562  Q: What is the Australian word for a boomerang...       13\n",
       "88992   -5.688  Chuck Norris' calendar goes straight from Marc...      130\n",
       "...        ...                                                ...      ...\n",
       "871310  -6.781  America: 8:00 - Welcome to work! 12:00 - Lunch...      136\n",
       "872360  -7.312  Q. What's O. J. Simpson's web address? A. Slas...        1\n",
       "872604  -5.281  President Clinton looks up from his desk in th...       21\n",
       "873069  -7.281  Q: What do Monica Lewinsky and Bob Dole have i...       42\n",
       "873546   6.719  Hillary, Bill Clinton and the Pope are sitting...       70\n",
       "\n",
       "[79 rows x 3 columns]"
      ]
     },
     "execution_count": 159,
     "metadata": {},
     "output_type": "execute_result"
    }
   ],
   "source": [
    "dff"
   ]
  },
  {
   "cell_type": "code",
   "execution_count": 96,
   "id": "0d68cf7f",
   "metadata": {},
   "outputs": [],
   "source": [
    "d = np.array([-1,  0,  1,  1,  1,  2,  0,  1,  3, -1,  1,  1,  2, -1,  1,  1,  1,\n",
    "         1,  1,  1,  1,  1,  3,  1,  1,  1,  1,  1, -1,  0, -1,  1, -1,  1,\n",
    "         1,  1,  1,  1,  1,  1, -1,  1,  1, -1, -1,  1, -1,  0, -1, -1,  1,\n",
    "         1,  1, -1,  1,  1, -1,  1,  1,  1,  1,  1,  1,  0, -1,  1, -1,  1,\n",
    "        -1,  1,  1,  0,  1,  1,  0,  1,  1, -1, -1,  0,  1,  1,  1,  1, -1,\n",
    "         1, -1, -1, -1,  1,  1, -1,  1,  1,  1,  1,  1,  1,  1,  1,  1,  1,\n",
    "         1,  1,  1,  1,  1,  1,  1,  1,  1,  1,  4,  1,  1,  1,  1,  1,  1,\n",
    "         1,  1, -1,  1,  1,  1,  1,  1, -1, -1,  4, -1,  1,  1,  1,  1,  1,\n",
    "         1,  1, -1])"
   ]
  },
  {
   "cell_type": "code",
   "execution_count": 161,
   "id": "15468537",
   "metadata": {},
   "outputs": [
    {
     "data": {
      "text/plain": [
       "139"
      ]
     },
     "execution_count": 161,
     "metadata": {},
     "output_type": "execute_result"
    }
   ],
   "source": [
    "len(d)"
   ]
  },
  {
   "cell_type": "code",
   "execution_count": 179,
   "id": "5070f575",
   "metadata": {},
   "outputs": [],
   "source": [
    "categorized = dff[dff['joke_id'] < 139]"
   ]
  },
  {
   "cell_type": "code",
   "execution_count": 185,
   "id": "94baf458",
   "metadata": {},
   "outputs": [],
   "source": [
    "categorized['category'] = categorized.apply(lambda x: d[x['joke_id']], axis=1)\n",
    "categorized['len'] = categorized.apply(lambda x: len(x['joke_text']), axis=1)"
   ]
  },
  {
   "cell_type": "code",
   "execution_count": 187,
   "id": "1aeea5e8",
   "metadata": {},
   "outputs": [
    {
     "name": "stdout",
     "output_type": "stream",
     "text": [
      "        Rating  category  joke_id   len\n",
      "7430    -4.688         0        6    56\n",
      "463533  -3.625         1        2    75\n",
      "794442  -3.312         1       72   139\n",
      "111252  -2.656        -1       44   956\n",
      "314160  -2.500         1        4    99\n",
      "87556   -2.344        -1      130    93\n",
      "418272  -2.031         1       75   122\n",
      "83891   -2.031        -1       13    80\n",
      "226761  -2.000         1      124   480\n",
      "775309  -1.469        -1       30   129\n",
      "250426  -1.000        -1       53   600\n",
      "796351  -0.938         1       67    80\n",
      "827474  -0.656        -1       77   414\n",
      "713616  -0.250         1       69   114\n",
      "302379   0.438         1        7    81\n",
      "168701   0.625         1       24   284\n",
      "574531   0.812         3       22   652\n",
      "770844   1.062         1       98   260\n",
      "647049   1.062         1       99   273\n",
      "641150   1.344         1      100   416\n",
      "864724   1.406         1       20    97\n",
      "334648   1.438         1       25   543\n",
      "837797   1.562         1       80    97\n",
      "405780   1.594         3        8   302\n",
      "90124    1.625         1       76   134\n",
      "785380   1.719         0       47    78\n",
      "761258   1.781         1      101   566\n",
      "74063    1.781         1       96  1085\n",
      "740900   1.781         1       15   162\n",
      "744260   1.875         1       45   406\n",
      "870554   1.938         1      136   311\n",
      "835676   1.969         1      131    52\n",
      "349902   1.969         1       82   471\n",
      "734550   2.000         1       35   235\n",
      "436269   2.125         0       79   784\n",
      "363754   2.156         1      113   136\n",
      "725127   2.219         1      137   592\n",
      "788949   2.312         1       16   478\n",
      "387737   2.438        -1       28   176\n",
      "205554   2.438         0       29   143\n",
      "255444   2.469        -1       40   386\n",
      "219539   2.562         4      129   165\n",
      "782613   2.562         1       92   238\n",
      "342869   2.594         1       36   345\n",
      "676274   2.656         0       71   371\n",
      "729372   2.781         4      112   508\n",
      "191677   2.812         1      122   300\n",
      "241967   2.812        -1       56   587\n",
      "197848   2.844         1      115   586\n",
      "26810    2.875        -1       86   329\n",
      "32809    2.938         1       14    78\n",
      "428923   2.969         1       97   524\n",
      "657133   3.062         1      132   737\n",
      "285297   3.125        -1       87   418\n",
      "105896   3.281        -1       46   599\n",
      "503655   3.281         1       54    87\n",
      "547072   3.281         1      104   792\n",
      "129295   3.312         1      116   466\n",
      "445761   3.344         1      126   261\n",
      "779098   3.375        -1       64   131\n",
      "165404   3.406         1       19   740\n",
      "860032   3.469         1       23    76\n",
      "182956   3.469         1       58   842\n",
      "854335   3.469         1       89   111\n",
      "40606    3.469         1       62   525\n",
      "593727   3.500         1       61   389\n",
      "608616   3.625         1       34    70\n",
      "850306   3.656         1      105   952\n",
      "156309   3.688         1      110   562\n",
      "628131   3.781        -1       43  1214\n",
      "581443   3.906         1      125   257\n",
      "722725   4.000         1       93   129\n",
      "147432   4.000         1      108   346\n",
      "799426   4.406         1       73   370\n",
      "862631   4.625         1       57   267\n",
      "587563   4.781         1       81   692\n",
      "683288   4.812         1      107   518\n",
      "659476   5.156        -1       68    91\n",
      "138711   5.250         1       37  1074\n",
      "707192   5.750         1      111   313\n"
     ]
    }
   ],
   "source": [
    "with pd.option_context('display.max_rows', None, 'display.max_columns', None):  # more options can be specified also\n",
    "    print(categorized.loc[:, ['Rating', 'category', 'joke_id', 'len']].sort_values('Rating'))"
   ]
  },
  {
   "cell_type": "code",
   "execution_count": 182,
   "id": "e25328d2",
   "metadata": {},
   "outputs": [
    {
     "data": {
      "text/plain": [
       "['An astronomer, a physicist and a mathematician (it is said) were holidaying in Scotland. Glancing from a train window, they observed a black sheep in the middle of a field. \"How interesting,\" observed the astronomer, \"All Scottish sheep are black!\" To which the physicist responded, \"No, no! Some Scottish sheep are black!\" The mathematician gazed heavenward in supplication, and then intoned, \"In Scotland there exists at least one field, containing at least one sheep, at least one side of which is black.\"',\n",
       " 'The graduate with a Science degree asks, \"Why does it work?\" The graduate with an Engineering degree asks, \"How does it work?\" The graduate with an Accounting degree Asks, \"How much will it cost?\" The graduate with a Liberal Arts degree asks, \"Do you want fries with that?\"',\n",
       " 'Q: Ever wonder why the IRS calls it Form 1040? A: Because for every $50 that you earn, you get 10 and they get 40.',\n",
       " 'A man goes into a drug store and asks the pharmacist if he can give him something for the hiccups. The pharmacist promptly reaches out and slaps the man\\'s face. \"What the heck did you do that for?!\" the man screams. \"Well, you don\\'t have the hiccups anymore, do you?\" The man says, \"No I don\\'t, you IDIOT...but my wife out in the car still does!\"',\n",
       " 'Early one morning a mother went to her sleeping son and woke him up. \"Wake up, son. It\\'s time to go to school.\" \"But why, Mama? I don\\'t want to go to school.\" \"Give me two reasons why you don\\'t want to go to school.\" \"One, all the children hate me. Two, all the teachers hate me.\" \"Oh, that\\'s no reason. Come on, you have to go to school.\" \"Give me two good reasons why I should go to school.\" \"One, you are fifty-two years old. Two, you are the principal of the school.\"',\n",
       " 'A man piloting a hot air balloon discovers he has wandered off course and is hopelessly lost. He descends to a lower altitude and locates a man down on the ground. He lowers the balloon further and shouts, \"Excuse me, can you tell me where I am?\" The man below says, \"Yes, you\\'re in a hot air balloon, about 30 feet above this field.\" \"You must work in Information Technology,\" says the balloonist. \"Yes I do,\" replies the man. \"And how did you know that?\" \"Well,\" says the balloonist, \"what you told me is technically correct, but of no use to anyone.\" The man below says, \"You must work in management.\" \"I do,\" replies the balloonist, \"how did you know?\" \"Well,\" says the man, \"you don\\'t know where you are, or where you\\'re going, but you expect my immediate help. You\\'re in the same position you were before we met, but now it\\'s my fault!\"']"
      ]
     },
     "execution_count": 182,
     "metadata": {},
     "output_type": "execute_result"
    }
   ],
   "source": [
    "[jokes[111], jokes[37], jokes[68], jokes[107], jokes[81], jokes[57]]"
   ]
  },
  {
   "cell_type": "code",
   "execution_count": 183,
   "id": "ad83b8a9",
   "metadata": {},
   "outputs": [
    {
     "data": {
      "text/plain": [
       "'How many men does it take to screw in a light bulb? One. Men will screw anything.'"
      ]
     },
     "execution_count": 183,
     "metadata": {},
     "output_type": "execute_result"
    }
   ],
   "source": [
    "jokes[6]"
   ]
  },
  {
   "cell_type": "code",
   "execution_count": null,
   "id": "e4c1ab0b",
   "metadata": {},
   "outputs": [],
   "source": []
  }
 ],
 "metadata": {
  "kernelspec": {
   "display_name": "Python 3 (ipykernel)",
   "language": "python",
   "name": "python3"
  },
  "language_info": {
   "codemirror_mode": {
    "name": "ipython",
    "version": 3
   },
   "file_extension": ".py",
   "mimetype": "text/x-python",
   "name": "python",
   "nbconvert_exporter": "python",
   "pygments_lexer": "ipython3",
   "version": "3.8.2"
  }
 },
 "nbformat": 4,
 "nbformat_minor": 5
}
