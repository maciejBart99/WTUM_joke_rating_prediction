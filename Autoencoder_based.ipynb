{
 "cells": [
  {
   "cell_type": "code",
   "execution_count": 3,
   "id": "6fc206a0",
   "metadata": {
    "scrolled": true
   },
   "outputs": [
    {
     "name": "stdout",
     "output_type": "stream",
     "text": [
      "Requirement already satisfied: keras in /Users/lukasikm/Documents/sowa2/WTUM_joke_rating_prediction/lib/python3.8/site-packages (2.8.0)\n",
      "Collecting tensorflow\n",
      "  Downloading tensorflow-2.8.0-cp38-cp38-macosx_10_14_x86_64.whl (217.4 MB)\n",
      "\u001b[2K     \u001b[90m━━━━━━━━━━━━━━━━━━━━━━━━━━━━━━━━━━━━━\u001b[0m \u001b[32m217.4/217.4 MB\u001b[0m \u001b[31m643.3 kB/s\u001b[0m eta \u001b[36m0:00:00\u001b[0m00:01\u001b[0m00:10\u001b[0m\n",
      "\u001b[?25hCollecting flatbuffers>=1.12\n",
      "  Downloading flatbuffers-2.0-py2.py3-none-any.whl (26 kB)\n",
      "Collecting grpcio<2.0,>=1.24.3\n",
      "  Downloading grpcio-1.44.0-cp38-cp38-macosx_10_10_x86_64.whl (4.3 MB)\n",
      "\u001b[2K     \u001b[90m━━━━━━━━━━━━━━━━━━━━━━━━━━━━━━━━━━━━━━━━\u001b[0m \u001b[32m4.3/4.3 MB\u001b[0m \u001b[31m498.6 kB/s\u001b[0m eta \u001b[36m0:00:00\u001b[0m00:01\u001b[0m00:01\u001b[0m\n",
      "\u001b[?25hCollecting absl-py>=0.4.0\n",
      "  Downloading absl_py-1.0.0-py3-none-any.whl (126 kB)\n",
      "\u001b[2K     \u001b[90m━━━━━━━━━━━━━━━━━━━━━━━━━━━━━━━━━━━━━\u001b[0m \u001b[32m126.7/126.7 KB\u001b[0m \u001b[31m551.9 kB/s\u001b[0m eta \u001b[36m0:00:00\u001b[0ma \u001b[36m0:00:01\u001b[0m\n",
      "\u001b[?25hRequirement already satisfied: six>=1.12.0 in /Users/lukasikm/Documents/sowa2/WTUM_joke_rating_prediction/lib/python3.8/site-packages (from tensorflow) (1.16.0)\n",
      "Collecting tf-estimator-nightly==2.8.0.dev2021122109\n",
      "  Downloading tf_estimator_nightly-2.8.0.dev2021122109-py2.py3-none-any.whl (462 kB)\n",
      "\u001b[2K     \u001b[90m━━━━━━━━━━━━━━━━━━━━━━━━━━━━━━━━━━━━━\u001b[0m \u001b[32m462.5/462.5 KB\u001b[0m \u001b[31m268.2 kB/s\u001b[0m eta \u001b[36m0:00:00\u001b[0m00:01\u001b[0m00:01\u001b[0m\n",
      "\u001b[?25hCollecting tensorflow-io-gcs-filesystem>=0.23.1\n",
      "  Downloading tensorflow_io_gcs_filesystem-0.24.0-cp38-cp38-macosx_10_14_x86_64.whl (1.6 MB)\n",
      "\u001b[2K     \u001b[90m━━━━━━━━━━━━━━━━━━━━━━━━━━━━━━━━━━━━━━━━\u001b[0m \u001b[32m1.6/1.6 MB\u001b[0m \u001b[31m422.3 kB/s\u001b[0m eta \u001b[36m0:00:00\u001b[0m00:01\u001b[0m00:01\u001b[0m\n",
      "\u001b[?25hCollecting libclang>=9.0.1\n",
      "  Downloading libclang-13.0.0-py2.py3-none-macosx_10_9_x86_64.whl (13.0 MB)\n",
      "\u001b[2K     \u001b[90m━━━━━━━━━━━━━━━━━━━━━━━━━━━━━━━━━━━━━━━\u001b[0m \u001b[32m13.0/13.0 MB\u001b[0m \u001b[31m942.6 kB/s\u001b[0m eta \u001b[36m0:00:00\u001b[0m00:01\u001b[0m00:01\u001b[0m\n",
      "\u001b[?25hCollecting protobuf>=3.9.2\n",
      "  Downloading protobuf-3.20.0-cp38-cp38-macosx_10_9_x86_64.whl (962 kB)\n",
      "\u001b[2K     \u001b[90m━━━━━━━━━━━━━━━━━━━━━━━━━━━━━━━━━━━━━\u001b[0m \u001b[32m962.3/962.3 KB\u001b[0m \u001b[31m376.1 kB/s\u001b[0m eta \u001b[36m0:00:00\u001b[0m00:01\u001b[0m00:01\u001b[0m\n",
      "\u001b[?25hRequirement already satisfied: typing-extensions>=3.6.6 in /Users/lukasikm/Documents/sowa2/WTUM_joke_rating_prediction/lib/python3.8/site-packages (from tensorflow) (4.1.1)\n",
      "Collecting termcolor>=1.1.0\n",
      "  Downloading termcolor-1.1.0.tar.gz (3.9 kB)\n",
      "  Preparing metadata (setup.py) ... \u001b[?25ldone\n",
      "\u001b[?25hCollecting keras-preprocessing>=1.1.1\n",
      "  Downloading Keras_Preprocessing-1.1.2-py2.py3-none-any.whl (42 kB)\n",
      "\u001b[2K     \u001b[90m━━━━━━━━━━━━━━━━━━━━━━━━━━━━━━━━━━━━━━━\u001b[0m \u001b[32m42.6/42.6 KB\u001b[0m \u001b[31m148.0 kB/s\u001b[0m eta \u001b[36m0:00:00\u001b[0ma \u001b[36m0:00:01\u001b[0m\n",
      "\u001b[?25hRequirement already satisfied: numpy>=1.20 in /Users/lukasikm/Documents/sowa2/WTUM_joke_rating_prediction/lib/python3.8/site-packages (from tensorflow) (1.22.3)\n",
      "Collecting h5py>=2.9.0\n",
      "  Downloading h5py-3.6.0-cp38-cp38-macosx_10_9_x86_64.whl (3.1 MB)\n",
      "\u001b[2K     \u001b[90m━━━━━━━━━━━━━━━━━━━━━━━━━━━━━━━━━━━━━━━━\u001b[0m \u001b[32m3.1/3.1 MB\u001b[0m \u001b[31m807.7 kB/s\u001b[0m eta \u001b[36m0:00:00\u001b[0m00:01\u001b[0m00:01\u001b[0m\n",
      "\u001b[?25hCollecting opt-einsum>=2.3.2\n",
      "  Downloading opt_einsum-3.3.0-py3-none-any.whl (65 kB)\n",
      "\u001b[2K     \u001b[90m━━━━━━━━━━━━━━━━━━━━━━━━━━━━━━━━━━━━━━━━\u001b[0m \u001b[32m65.5/65.5 KB\u001b[0m \u001b[31m1.1 MB/s\u001b[0m eta \u001b[36m0:00:00\u001b[0ma \u001b[36m0:00:01\u001b[0m\n",
      "\u001b[?25hCollecting gast>=0.2.1\n",
      "  Downloading gast-0.5.3-py3-none-any.whl (19 kB)\n",
      "Collecting google-pasta>=0.1.1\n",
      "  Downloading google_pasta-0.2.0-py3-none-any.whl (57 kB)\n",
      "\u001b[2K     \u001b[90m━━━━━━━━━━━━━━━━━━━━━━━━━━━━━━━━━━━━━━━━\u001b[0m \u001b[32m57.5/57.5 KB\u001b[0m \u001b[31m1.0 MB/s\u001b[0m eta \u001b[36m0:00:00\u001b[0ma \u001b[36m0:00:01\u001b[0m\n",
      "\u001b[?25hCollecting wrapt>=1.11.0\n",
      "  Downloading wrapt-1.14.0-cp38-cp38-macosx_10_9_x86_64.whl (35 kB)\n",
      "Collecting astunparse>=1.6.0\n",
      "  Downloading astunparse-1.6.3-py2.py3-none-any.whl (12 kB)\n",
      "Requirement already satisfied: setuptools in /Users/lukasikm/Documents/sowa2/WTUM_joke_rating_prediction/lib/python3.8/site-packages (from tensorflow) (61.1.1)\n",
      "Collecting tensorboard<2.9,>=2.8\n",
      "  Downloading tensorboard-2.8.0-py3-none-any.whl (5.8 MB)\n",
      "\u001b[2K     \u001b[90m━━━━━━━━━━━━━━━━━━━━━━━━━━━━━━━━━━━━━━━━\u001b[0m \u001b[32m5.8/5.8 MB\u001b[0m \u001b[31m475.3 kB/s\u001b[0m eta \u001b[36m0:00:00\u001b[0m00:01\u001b[0m00:01\u001b[0m\n",
      "\u001b[?25hCollecting wheel<1.0,>=0.23.0\n",
      "  Downloading wheel-0.37.1-py2.py3-none-any.whl (35 kB)\n",
      "Collecting google-auth-oauthlib<0.5,>=0.4.1\n",
      "  Downloading google_auth_oauthlib-0.4.6-py2.py3-none-any.whl (18 kB)\n",
      "Collecting werkzeug>=0.11.15\n",
      "  Downloading Werkzeug-2.1.1-py3-none-any.whl (224 kB)\n",
      "\u001b[2K     \u001b[90m━━━━━━━━━━━━━━━━━━━━━━━━━━━━━━━━━━━━━\u001b[0m \u001b[32m224.7/224.7 KB\u001b[0m \u001b[31m862.8 kB/s\u001b[0m eta \u001b[36m0:00:00\u001b[0ma \u001b[36m0:00:01\u001b[0m\n",
      "\u001b[?25hCollecting markdown>=2.6.8\n",
      "  Downloading Markdown-3.3.6-py3-none-any.whl (97 kB)\n",
      "\u001b[2K     \u001b[90m━━━━━━━━━━━━━━━━━━━━━━━━━━━━━━━━━━━━━━━\u001b[0m \u001b[32m97.8/97.8 KB\u001b[0m \u001b[31m784.2 kB/s\u001b[0m eta \u001b[36m0:00:00\u001b[0m \u001b[36m0:00:01\u001b[0m\n",
      "\u001b[?25hCollecting tensorboard-plugin-wit>=1.6.0\n",
      "  Downloading tensorboard_plugin_wit-1.8.1-py3-none-any.whl (781 kB)\n",
      "\u001b[2K     \u001b[90m━━━━━━━━━━━━━━━━━━━━━━━━━━━━━━━━━━━━━━━\u001b[0m \u001b[32m781.3/781.3 KB\u001b[0m \u001b[31m1.2 MB/s\u001b[0m eta \u001b[36m0:00:00\u001b[0m00:01\u001b[0m00:01\u001b[0m\n",
      "\u001b[?25hCollecting tensorboard-data-server<0.7.0,>=0.6.0\n",
      "  Downloading tensorboard_data_server-0.6.1-py3-none-macosx_10_9_x86_64.whl (3.5 MB)\n",
      "\u001b[2K     \u001b[90m━━━━━━━━━━━━━━━━━━━━━━━━━━━━━━━━━━━━━━━━\u001b[0m \u001b[32m3.5/3.5 MB\u001b[0m \u001b[31m473.9 kB/s\u001b[0m eta \u001b[36m0:00:00\u001b[0m00:01\u001b[0m00:01\u001b[0m\n",
      "\u001b[?25hCollecting google-auth<3,>=1.6.3\n",
      "  Downloading google_auth-2.6.2-py2.py3-none-any.whl (156 kB)\n",
      "\u001b[2K     \u001b[90m━━━━━━━━━━━━━━━━━━━━━━━━━━━━━━━━━━━━━\u001b[0m \u001b[32m156.5/156.5 KB\u001b[0m \u001b[31m520.7 kB/s\u001b[0m eta \u001b[36m0:00:00\u001b[0m00:01\u001b[0m00:01\u001b[0m\n",
      "\u001b[?25hRequirement already satisfied: requests<3,>=2.21.0 in /Users/lukasikm/Documents/sowa2/WTUM_joke_rating_prediction/lib/python3.8/site-packages (from tensorboard<2.9,>=2.8->tensorflow) (2.27.1)\n",
      "Collecting rsa<5,>=3.1.4\n",
      "  Downloading rsa-4.8-py3-none-any.whl (39 kB)\n",
      "Collecting cachetools<6.0,>=2.0.0\n",
      "  Downloading cachetools-5.0.0-py3-none-any.whl (9.1 kB)\n",
      "Collecting pyasn1-modules>=0.2.1\n",
      "  Downloading pyasn1_modules-0.2.8-py2.py3-none-any.whl (155 kB)\n",
      "\u001b[2K     \u001b[90m━━━━━━━━━━━━━━━━━━━━━━━━━━━━━━━━━━━━━\u001b[0m \u001b[32m155.3/155.3 KB\u001b[0m \u001b[31m475.9 kB/s\u001b[0m eta \u001b[36m0:00:00\u001b[0m00:01\u001b[0m00:01\u001b[0m\n",
      "\u001b[?25hCollecting requests-oauthlib>=0.7.0\n",
      "  Downloading requests_oauthlib-1.3.1-py2.py3-none-any.whl (23 kB)\n",
      "Collecting importlib-metadata>=4.4\n",
      "  Downloading importlib_metadata-4.11.3-py3-none-any.whl (18 kB)\n",
      "Requirement already satisfied: idna<4,>=2.5 in /Users/lukasikm/Documents/sowa2/WTUM_joke_rating_prediction/lib/python3.8/site-packages (from requests<3,>=2.21.0->tensorboard<2.9,>=2.8->tensorflow) (3.3)\n",
      "Requirement already satisfied: certifi>=2017.4.17 in /Users/lukasikm/Documents/sowa2/WTUM_joke_rating_prediction/lib/python3.8/site-packages (from requests<3,>=2.21.0->tensorboard<2.9,>=2.8->tensorflow) (2021.10.8)\n",
      "Requirement already satisfied: charset-normalizer~=2.0.0 in /Users/lukasikm/Documents/sowa2/WTUM_joke_rating_prediction/lib/python3.8/site-packages (from requests<3,>=2.21.0->tensorboard<2.9,>=2.8->tensorflow) (2.0.12)\n",
      "Requirement already satisfied: urllib3<1.27,>=1.21.1 in /Users/lukasikm/Documents/sowa2/WTUM_joke_rating_prediction/lib/python3.8/site-packages (from requests<3,>=2.21.0->tensorboard<2.9,>=2.8->tensorflow) (1.26.9)\n",
      "Requirement already satisfied: zipp>=0.5 in /Users/lukasikm/Documents/sowa2/WTUM_joke_rating_prediction/lib/python3.8/site-packages (from importlib-metadata>=4.4->markdown>=2.6.8->tensorboard<2.9,>=2.8->tensorflow) (3.7.0)\n",
      "Collecting pyasn1<0.5.0,>=0.4.6\n",
      "  Downloading pyasn1-0.4.8-py2.py3-none-any.whl (77 kB)\n",
      "\u001b[2K     \u001b[90m━━━━━━━━━━━━━━━━━━━━━━━━━━━━━━━━━━━━━━━\u001b[0m \u001b[32m77.1/77.1 KB\u001b[0m \u001b[31m457.1 kB/s\u001b[0m eta \u001b[36m0:00:00\u001b[0ma \u001b[36m0:00:01\u001b[0m\n",
      "\u001b[?25hCollecting oauthlib>=3.0.0\n",
      "  Downloading oauthlib-3.2.0-py3-none-any.whl (151 kB)\n",
      "\u001b[2K     \u001b[90m━━━━━━━━━━━━━━━━━━━━━━━━━━━━━━━━━━━━━\u001b[0m \u001b[32m151.5/151.5 KB\u001b[0m \u001b[31m619.9 kB/s\u001b[0m eta \u001b[36m0:00:00\u001b[0ma \u001b[36m0:00:01\u001b[0m\n",
      "\u001b[?25hUsing legacy 'setup.py install' for termcolor, since package 'wheel' is not installed.\n",
      "Installing collected packages: tf-estimator-nightly, termcolor, tensorboard-plugin-wit, pyasn1, libclang, flatbuffers, wrapt, wheel, werkzeug, tensorflow-io-gcs-filesystem, tensorboard-data-server, rsa, pyasn1-modules, protobuf, opt-einsum, oauthlib, keras-preprocessing, importlib-metadata, h5py, grpcio, google-pasta, gast, cachetools, absl-py, requests-oauthlib, markdown, google-auth, astunparse, google-auth-oauthlib, tensorboard, tensorflow\n"
     ]
    },
    {
     "name": "stdout",
     "output_type": "stream",
     "text": [
      "  Running setup.py install for termcolor ... \u001b[?25ldone\n",
      "\u001b[?25hSuccessfully installed absl-py-1.0.0 astunparse-1.6.3 cachetools-5.0.0 flatbuffers-2.0 gast-0.5.3 google-auth-2.6.2 google-auth-oauthlib-0.4.6 google-pasta-0.2.0 grpcio-1.44.0 h5py-3.6.0 importlib-metadata-4.11.3 keras-preprocessing-1.1.2 libclang-13.0.0 markdown-3.3.6 oauthlib-3.2.0 opt-einsum-3.3.0 protobuf-3.20.0 pyasn1-0.4.8 pyasn1-modules-0.2.8 requests-oauthlib-1.3.1 rsa-4.8 tensorboard-2.8.0 tensorboard-data-server-0.6.1 tensorboard-plugin-wit-1.8.1 tensorflow-2.8.0 tensorflow-io-gcs-filesystem-0.24.0 termcolor-1.1.0 tf-estimator-nightly-2.8.0.dev2021122109 werkzeug-2.1.1 wheel-0.37.1 wrapt-1.14.0\n",
      "Note: you may need to restart the kernel to use updated packages.\n"
     ]
    }
   ],
   "source": [
    "pip install keras tensorflow"
   ]
  },
  {
   "cell_type": "code",
   "execution_count": 1,
   "id": "bd10decb",
   "metadata": {
    "scrolled": false
   },
   "outputs": [],
   "source": [
    "import keras"
   ]
  },
  {
   "cell_type": "code",
   "execution_count": 2,
   "id": "76c71366",
   "metadata": {},
   "outputs": [],
   "source": [
    "from src.core import DataLoader"
   ]
  },
  {
   "cell_type": "code",
   "execution_count": 3,
   "id": "4f3034dc",
   "metadata": {},
   "outputs": [],
   "source": [
    "dl = DataLoader('data/jokes.csv', 'data/rating.csv')"
   ]
  },
  {
   "cell_type": "code",
   "execution_count": 4,
   "id": "b8e2d623",
   "metadata": {
    "scrolled": false
   },
   "outputs": [
    {
     "data": {
      "text/html": [
       "<div>\n",
       "<style scoped>\n",
       "    .dataframe tbody tr th:only-of-type {\n",
       "        vertical-align: middle;\n",
       "    }\n",
       "\n",
       "    .dataframe tbody tr th {\n",
       "        vertical-align: top;\n",
       "    }\n",
       "\n",
       "    .dataframe thead th {\n",
       "        text-align: right;\n",
       "    }\n",
       "</style>\n",
       "<table border=\"1\" class=\"dataframe\">\n",
       "  <thead>\n",
       "    <tr style=\"text-align: right;\">\n",
       "      <th></th>\n",
       "      <th>id</th>\n",
       "      <th>user_id</th>\n",
       "      <th>joke_id</th>\n",
       "      <th>Rating</th>\n",
       "    </tr>\n",
       "  </thead>\n",
       "  <tbody>\n",
       "    <tr>\n",
       "      <th>0</th>\n",
       "      <td>31030_110</td>\n",
       "      <td>31030</td>\n",
       "      <td>110</td>\n",
       "      <td>2.750</td>\n",
       "    </tr>\n",
       "    <tr>\n",
       "      <th>2</th>\n",
       "      <td>23098_6</td>\n",
       "      <td>23098</td>\n",
       "      <td>6</td>\n",
       "      <td>-6.438</td>\n",
       "    </tr>\n",
       "    <tr>\n",
       "      <th>3</th>\n",
       "      <td>14273_86</td>\n",
       "      <td>14273</td>\n",
       "      <td>86</td>\n",
       "      <td>4.406</td>\n",
       "    </tr>\n",
       "    <tr>\n",
       "      <th>4</th>\n",
       "      <td>18419_134</td>\n",
       "      <td>18419</td>\n",
       "      <td>134</td>\n",
       "      <td>9.375</td>\n",
       "    </tr>\n",
       "    <tr>\n",
       "      <th>5</th>\n",
       "      <td>5782_14</td>\n",
       "      <td>5782</td>\n",
       "      <td>14</td>\n",
       "      <td>-1.781</td>\n",
       "    </tr>\n",
       "    <tr>\n",
       "      <th>...</th>\n",
       "      <td>...</td>\n",
       "      <td>...</td>\n",
       "      <td>...</td>\n",
       "      <td>...</td>\n",
       "    </tr>\n",
       "    <tr>\n",
       "      <th>1092053</th>\n",
       "      <td>4860_62</td>\n",
       "      <td>4860</td>\n",
       "      <td>62</td>\n",
       "      <td>9.000</td>\n",
       "    </tr>\n",
       "    <tr>\n",
       "      <th>1092054</th>\n",
       "      <td>9517_132</td>\n",
       "      <td>9517</td>\n",
       "      <td>132</td>\n",
       "      <td>3.156</td>\n",
       "    </tr>\n",
       "    <tr>\n",
       "      <th>1092055</th>\n",
       "      <td>27767_118</td>\n",
       "      <td>27767</td>\n",
       "      <td>118</td>\n",
       "      <td>-1.594</td>\n",
       "    </tr>\n",
       "    <tr>\n",
       "      <th>1092056</th>\n",
       "      <td>10580_81</td>\n",
       "      <td>10580</td>\n",
       "      <td>81</td>\n",
       "      <td>2.000</td>\n",
       "    </tr>\n",
       "    <tr>\n",
       "      <th>1092058</th>\n",
       "      <td>8420_98</td>\n",
       "      <td>8420</td>\n",
       "      <td>98</td>\n",
       "      <td>-3.344</td>\n",
       "    </tr>\n",
       "  </tbody>\n",
       "</table>\n",
       "<p>873647 rows × 4 columns</p>\n",
       "</div>"
      ],
      "text/plain": [
       "                id  user_id  joke_id  Rating\n",
       "0        31030_110    31030      110   2.750\n",
       "2          23098_6    23098        6  -6.438\n",
       "3         14273_86    14273       86   4.406\n",
       "4        18419_134    18419      134   9.375\n",
       "5          5782_14     5782       14  -1.781\n",
       "...            ...      ...      ...     ...\n",
       "1092053    4860_62     4860       62   9.000\n",
       "1092054   9517_132     9517      132   3.156\n",
       "1092055  27767_118    27767      118  -1.594\n",
       "1092056   10580_81    10580       81   2.000\n",
       "1092058    8420_98     8420       98  -3.344\n",
       "\n",
       "[873647 rows x 4 columns]"
      ]
     },
     "execution_count": 4,
     "metadata": {},
     "output_type": "execute_result"
    }
   ],
   "source": [
    "dl.train_data"
   ]
  },
  {
   "cell_type": "code",
   "execution_count": 5,
   "id": "c85f8781",
   "metadata": {},
   "outputs": [],
   "source": [
    "import numpy as np"
   ]
  },
  {
   "cell_type": "code",
   "execution_count": 6,
   "id": "9a765b92",
   "metadata": {},
   "outputs": [],
   "source": [
    "users_train = {}\n",
    "users_train_y = {}\n",
    "\n",
    "for record in dl.train_data.iterrows():\n",
    "    r = record[1]\n",
    "    \n",
    "    if r['user_id'] not in users_train:\n",
    "        users_train[r['user_id']] = np.ones(139) * 0.5\n",
    "        users_train_y[r['user_id']] = np.ones(139) * -1\n",
    "    \n",
    "    users_train[r['user_id']][r['joke_id'] - 1] = (r['Rating'] + 10) / 20\n",
    "    users_train_y[r['user_id']][r['joke_id'] - 1] = (r['Rating'] + 10) / 20\n"
   ]
  },
  {
   "cell_type": "code",
   "execution_count": 7,
   "id": "9626f52b",
   "metadata": {},
   "outputs": [],
   "source": [
    "users_test = {}\n",
    "users_test_y = {}\n",
    "\n",
    "for record in dl.test_data.iterrows():\n",
    "    r = record[1]\n",
    "    \n",
    "    if r['user_id'] not in users_test:\n",
    "        users_test[r['user_id']] = np.ones(139) * 0.5\n",
    "        users_test_y[r['user_id']] = np.ones(139) * -1\n",
    "    \n",
    "    users_test[r['user_id']][r['joke_id'] - 1] = (r['Rating'] + 10) / 20\n",
    "    users_test_y[r['user_id']][r['joke_id'] - 1] = (r['Rating'] + 10) / 20\n"
   ]
  },
  {
   "cell_type": "code",
   "execution_count": 8,
   "id": "be1d1a44",
   "metadata": {},
   "outputs": [],
   "source": [
    "x_train = np.array(list(users_train.values()))\n",
    "y_train = np.array(list(users_train_y.values()))\n",
    "x_test = np.array(list(users_test.values()))\n",
    "y_test = np.array(list(users_test_y.values()))"
   ]
  },
  {
   "cell_type": "code",
   "execution_count": 9,
   "id": "5bdb8a53",
   "metadata": {},
   "outputs": [
    {
     "data": {
      "text/plain": [
       "array([0.1297 , 0.14375, 0.03125, ..., 0.99845, 0.7047 , 0.1375 ])"
      ]
     },
     "execution_count": 9,
     "metadata": {},
     "output_type": "execute_result"
    }
   ],
   "source": [
    "ind = np.where(y_train[0] > -1)[0]\n",
    "x_train[y_train > -1]"
   ]
  },
  {
   "cell_type": "code",
   "execution_count": 10,
   "id": "167da526",
   "metadata": {},
   "outputs": [],
   "source": [
    "import tensorflow as K\n",
    "\n",
    "def custom_loss(y_true, y_pred):          \n",
    "    ind = K.where(y_true + 1)\n",
    "    sliced_p=K.gather_nd(y_pred, indices=ind)\n",
    "    sliced_t = K.gather_nd(y_true, indices=ind)\n",
    "    \n",
    "    sqr = K.square(sliced_p - sliced_t)\n",
    "    \n",
    "    return K.sqrt(K.reduce_mean(sqr))"
   ]
  },
  {
   "cell_type": "code",
   "execution_count": 11,
   "id": "16225b1f",
   "metadata": {},
   "outputs": [],
   "source": [
    "from keras import layers"
   ]
  },
  {
   "cell_type": "code",
   "execution_count": 69,
   "id": "f90a4463",
   "metadata": {},
   "outputs": [],
   "source": [
    "inp = keras.Input(shape=(139,))\n",
    "encoded = layers.Dense(64, activation='relu')(inp)\n",
    "encoded = layers.Dense(32, activation='relu')(encoded)\n",
    "encoded = layers.Dense(16, activation='relu')(encoded)\n",
    "\n",
    "decoded = layers.Dense(32, activation='relu')(encoded)\n",
    "decoded = layers.Dense(64, activation='relu')(decoded)\n",
    "decoded = layers.Dense(139, activation='sigmoid')(decoded)"
   ]
  },
  {
   "cell_type": "code",
   "execution_count": 70,
   "id": "88ddbeba",
   "metadata": {
    "scrolled": true
   },
   "outputs": [
    {
     "name": "stdout",
     "output_type": "stream",
     "text": [
      "Epoch 1/50\n",
      "1277/1277 [==============================] - 3s 2ms/step - loss: 0.2090 - val_loss: 0.2132\n",
      "Epoch 2/50\n",
      "1277/1277 [==============================] - 2s 2ms/step - loss: 0.1865 - val_loss: 0.1979\n",
      "Epoch 3/50\n",
      "1277/1277 [==============================] - 2s 2ms/step - loss: 0.1810 - val_loss: 0.1883\n",
      "Epoch 4/50\n",
      "1277/1277 [==============================] - 2s 2ms/step - loss: 0.1781 - val_loss: 0.1809\n",
      "Epoch 5/50\n",
      "1277/1277 [==============================] - 2s 2ms/step - loss: 0.1757 - val_loss: 0.1819\n",
      "Epoch 6/50\n",
      "1277/1277 [==============================] - 2s 2ms/step - loss: 0.1745 - val_loss: 0.1819\n",
      "Epoch 7/50\n",
      "1277/1277 [==============================] - 2s 2ms/step - loss: 0.1735 - val_loss: 0.1818\n",
      "Epoch 8/50\n",
      "1277/1277 [==============================] - 2s 2ms/step - loss: 0.1724 - val_loss: 0.1875\n",
      "Epoch 9/50\n",
      "1277/1277 [==============================] - 2s 2ms/step - loss: 0.1714 - val_loss: 0.1753\n",
      "Epoch 10/50\n",
      "1277/1277 [==============================] - 2s 2ms/step - loss: 0.1697 - val_loss: 0.1712\n",
      "Epoch 11/50\n",
      "1277/1277 [==============================] - 2s 2ms/step - loss: 0.1689 - val_loss: 0.1714\n",
      "Epoch 12/50\n",
      "1277/1277 [==============================] - 2s 2ms/step - loss: 0.1673 - val_loss: 0.1689\n",
      "Epoch 13/50\n",
      "1277/1277 [==============================] - 2s 2ms/step - loss: 0.1662 - val_loss: 0.1745\n",
      "Epoch 14/50\n",
      "1277/1277 [==============================] - 2s 2ms/step - loss: 0.1658 - val_loss: 0.1746\n",
      "Epoch 15/50\n",
      "1277/1277 [==============================] - 2s 1ms/step - loss: 0.1653 - val_loss: 0.1757\n",
      "Epoch 16/50\n",
      "1277/1277 [==============================] - 2s 2ms/step - loss: 0.1643 - val_loss: 0.1688\n",
      "Epoch 17/50\n",
      "1277/1277 [==============================] - 2s 2ms/step - loss: 0.1632 - val_loss: 0.1693\n",
      "Epoch 18/50\n",
      "1277/1277 [==============================] - 2s 2ms/step - loss: 0.1627 - val_loss: 0.1627\n",
      "Epoch 19/50\n",
      "1277/1277 [==============================] - 2s 2ms/step - loss: 0.1622 - val_loss: 0.1683\n",
      "Epoch 20/50\n",
      "1277/1277 [==============================] - 2s 2ms/step - loss: 0.1620 - val_loss: 0.1624\n",
      "Epoch 21/50\n",
      "1277/1277 [==============================] - 2s 2ms/step - loss: 0.1619 - val_loss: 0.1634\n",
      "Epoch 22/50\n",
      "1277/1277 [==============================] - 2s 2ms/step - loss: 0.1613 - val_loss: 0.1755\n",
      "Epoch 23/50\n",
      "1277/1277 [==============================] - 2s 2ms/step - loss: 0.1610 - val_loss: 0.1656\n",
      "Epoch 24/50\n",
      "1277/1277 [==============================] - 2s 2ms/step - loss: 0.1610 - val_loss: 0.1643\n",
      "Epoch 25/50\n",
      "1277/1277 [==============================] - 2s 2ms/step - loss: 0.1609 - val_loss: 0.1671\n",
      "Epoch 26/50\n",
      "1277/1277 [==============================] - 2s 2ms/step - loss: 0.1607 - val_loss: 0.1703\n",
      "Epoch 27/50\n",
      "1277/1277 [==============================] - 2s 2ms/step - loss: 0.1604 - val_loss: 0.1590\n",
      "Epoch 28/50\n",
      "1277/1277 [==============================] - 2s 2ms/step - loss: 0.1603 - val_loss: 0.1628\n",
      "Epoch 29/50\n",
      "1277/1277 [==============================] - 2s 2ms/step - loss: 0.1601 - val_loss: 0.1655\n",
      "Epoch 30/50\n",
      "1277/1277 [==============================] - 2s 2ms/step - loss: 0.1602 - val_loss: 0.1636\n",
      "Epoch 31/50\n",
      "1277/1277 [==============================] - 2s 2ms/step - loss: 0.1600 - val_loss: 0.1628\n",
      "Epoch 32/50\n",
      "1277/1277 [==============================] - 2s 2ms/step - loss: 0.1598 - val_loss: 0.1606\n",
      "Epoch 33/50\n",
      "1277/1277 [==============================] - 2s 2ms/step - loss: 0.1597 - val_loss: 0.1630\n",
      "Epoch 34/50\n",
      "1277/1277 [==============================] - 2s 2ms/step - loss: 0.1594 - val_loss: 0.1588\n",
      "Epoch 35/50\n",
      "1277/1277 [==============================] - 2s 2ms/step - loss: 0.1594 - val_loss: 0.1589\n",
      "Epoch 36/50\n",
      "1277/1277 [==============================] - 2s 2ms/step - loss: 0.1593 - val_loss: 0.1591\n",
      "Epoch 37/50\n",
      "1277/1277 [==============================] - 2s 2ms/step - loss: 0.1592 - val_loss: 0.1617\n",
      "Epoch 38/50\n",
      "1277/1277 [==============================] - 2s 2ms/step - loss: 0.1592 - val_loss: 0.1598\n",
      "Epoch 39/50\n",
      "1277/1277 [==============================] - 2s 2ms/step - loss: 0.1591 - val_loss: 0.1639\n",
      "Epoch 40/50\n",
      "1277/1277 [==============================] - 2s 2ms/step - loss: 0.1588 - val_loss: 0.1644\n",
      "Epoch 41/50\n",
      "1277/1277 [==============================] - 2s 2ms/step - loss: 0.1590 - val_loss: 0.1591\n",
      "Epoch 42/50\n",
      "1277/1277 [==============================] - 2s 2ms/step - loss: 0.1588 - val_loss: 0.1572\n",
      "Epoch 43/50\n",
      "1277/1277 [==============================] - 2s 2ms/step - loss: 0.1585 - val_loss: 0.1663\n",
      "Epoch 44/50\n",
      "1277/1277 [==============================] - 2s 2ms/step - loss: 0.1586 - val_loss: 0.1584\n",
      "Epoch 45/50\n",
      "1277/1277 [==============================] - 2s 2ms/step - loss: 0.1586 - val_loss: 0.1634\n",
      "Epoch 46/50\n",
      "1277/1277 [==============================] - 2s 2ms/step - loss: 0.1584 - val_loss: 0.1585\n",
      "Epoch 47/50\n",
      "1277/1277 [==============================] - 2s 2ms/step - loss: 0.1584 - val_loss: 0.1595\n",
      "Epoch 48/50\n",
      "1277/1277 [==============================] - 2s 2ms/step - loss: 0.1586 - val_loss: 0.1619\n",
      "Epoch 49/50\n",
      "1277/1277 [==============================] - 2s 2ms/step - loss: 0.1584 - val_loss: 0.1628\n",
      "Epoch 50/50\n",
      "1277/1277 [==============================] - 2s 2ms/step - loss: 0.1583 - val_loss: 0.1587\n"
     ]
    },
    {
     "data": {
      "text/plain": [
       "<keras.callbacks.History at 0x187993790>"
      ]
     },
     "execution_count": 70,
     "metadata": {},
     "output_type": "execute_result"
    }
   ],
   "source": [
    "autoencoder = keras.Model(inp, decoded)\n",
    "autoencoder.compile(optimizer='adam', loss=custom_loss)\n",
    "\n",
    "autoencoder.fit(x_train, y_train,\n",
    "                epochs=50,\n",
    "                batch_size=32,\n",
    "                shuffle=True,\n",
    "                validation_data=(x_test, y_test))"
   ]
  },
  {
   "cell_type": "code",
   "execution_count": 151,
   "id": "07ebac8d",
   "metadata": {},
   "outputs": [
    {
     "data": {
      "text/plain": [
       "array([0.1297 , 0.14375, 0.7547 , 0.9281 , 0.01405, 0.1547 , 0.7219 ,\n",
       "       0.20155, 0.6297 , 0.7344 , 0.5344 , 0.01095, 0.575  , 0.0422 ,\n",
       "       0.725  , 0.0578 , 0.39845, 0.55155, 0.95625, 0.1344 , 0.7297 ,\n",
       "       0.0594 , 0.93125, 0.29845, 0.7953 , 0.03125, 0.26095, 0.0125 ,\n",
       "       0.025  , 0.9578 , 0.02345, 0.57345, 0.3781 , 0.06405, 0.1172 ,\n",
       "       0.34375, 0.0172 , 0.2203 , 0.7219 , 0.6    , 0.7453 , 0.1031 ,\n",
       "       0.23125, 0.8844 , 0.075  , 0.1297 , 0.60625, 0.0172 , 0.21405,\n",
       "       0.225  , 0.2531 , 0.6594 , 0.6375 , 0.18125, 0.1844 , 0.7094 ,\n",
       "       0.875  , 0.34375, 0.6328 , 0.9047 , 0.3172 , 0.3094 , 0.0656 ,\n",
       "       0.02345, 0.0422 , 0.21095, 0.01405, 0.69375])"
      ]
     },
     "execution_count": 151,
     "metadata": {},
     "output_type": "execute_result"
    }
   ],
   "source": [
    "users_train[31030][users_train_y[31030] != -1]"
   ]
  },
  {
   "cell_type": "code",
   "execution_count": 38,
   "id": "da5cde20",
   "metadata": {},
   "outputs": [
    {
     "data": {
      "text/plain": [
       "array([0.07454482, 0.18807223, 0.36238152, 0.31375545, 0.24415049,\n",
       "       0.37008524, 0.3264488 , 0.4211457 , 0.3112281 , 0.35130882,\n",
       "       0.31420618, 0.28400612, 0.4894547 , 0.24763054, 0.28317586,\n",
       "       0.34223348, 0.43269318, 0.28422183, 0.36677742, 0.52247685,\n",
       "       0.44576147, 0.4305954 , 0.3670886 , 0.4268012 , 0.31815875,\n",
       "       0.5545485 , 0.35171258, 0.3654453 , 0.49993196, 0.3835779 ,\n",
       "       0.28393063, 0.28888196, 0.24497369, 0.37615705, 0.28186947,\n",
       "       0.37613627, 0.3012725 , 0.5939765 , 0.34360278, 0.41193992,\n",
       "       0.36981803, 0.47237232, 0.4311819 , 0.2804407 , 0.39539552,\n",
       "       0.50345   , 0.3618981 , 0.3572039 , 0.40525812, 0.22167814,\n",
       "       0.14630115, 0.32040215, 0.39908135, 0.24789602, 0.32041878,\n",
       "       0.34500068, 0.32850912, 0.54408854, 0.21772864, 0.30286634,\n",
       "       0.21447319, 0.41089106, 0.34410185, 0.316423  ], dtype=float32)"
      ]
     },
     "execution_count": 38,
     "metadata": {},
     "output_type": "execute_result"
    }
   ],
   "source": [
    "autoencoder.predict(users_train[31030].reshape((1, 139)))[0][users_train_y[31030] != -1]"
   ]
  },
  {
   "cell_type": "code",
   "execution_count": 71,
   "id": "eb530a35",
   "metadata": {},
   "outputs": [],
   "source": [
    "encd = keras.Model(inp, encoded)"
   ]
  },
  {
   "cell_type": "code",
   "execution_count": 72,
   "id": "14cce40e",
   "metadata": {},
   "outputs": [
    {
     "data": {
      "text/plain": [
       "array([[1.3216784 , 0.758338  , 2.174471  , 0.        , 0.        ,\n",
       "        0.25169867, 0.3181636 , 1.3698056 , 1.0705769 , 1.3650913 ,\n",
       "        0.91003203, 1.5636183 , 0.8822842 , 0.        , 0.        ,\n",
       "        0.        ]], dtype=float32)"
      ]
     },
     "execution_count": 72,
     "metadata": {},
     "output_type": "execute_result"
    }
   ],
   "source": [
    "encd.predict(users_train[31030].reshape((1, 139)))"
   ]
  },
  {
   "cell_type": "code",
   "execution_count": 73,
   "id": "00ec8bac",
   "metadata": {},
   "outputs": [],
   "source": [
    "pop = dl.train_data.groupby('joke_id').mean()"
   ]
  },
  {
   "cell_type": "code",
   "execution_count": 74,
   "id": "f1e03864",
   "metadata": {},
   "outputs": [],
   "source": [
    "pdd = encd.predict(x_train)"
   ]
  },
  {
   "cell_type": "code",
   "execution_count": 75,
   "id": "454c060a",
   "metadata": {},
   "outputs": [],
   "source": [
    "test = dl.test_data"
   ]
  },
  {
   "cell_type": "code",
   "execution_count": 76,
   "id": "cf6e3663",
   "metadata": {},
   "outputs": [],
   "source": [
    "user_profiles = {}\n",
    "\n",
    "for user_id in users_train.keys():\n",
    "    user_profiles[user_id] = pdd[user_id - 1, :]"
   ]
  },
  {
   "cell_type": "code",
   "execution_count": 77,
   "id": "66528d29",
   "metadata": {},
   "outputs": [],
   "source": [
    "from scipy.sparse import csr_matrix\n",
    "\n",
    "df = dl.train_data\n",
    "\n",
    "N = len(df['user_id'].unique())\n",
    "M = len(df['joke_id'].unique())\n",
    "\n",
    "user_mapper = dict(zip(np.unique(df[\"user_id\"]), list(range(N))))\n",
    "movie_mapper = dict(zip(np.unique(df[\"joke_id\"]), list(range(M))))\n",
    "\n",
    "user_inv_mapper = dict(zip(list(range(N)), np.unique(df[\"user_id\"])))\n",
    "movie_inv_mapper = dict(zip(list(range(M)), np.unique(df[\"joke_id\"])))\n",
    "\n",
    "user_index = [user_mapper[i] for i in df['user_id']]\n",
    "movie_index = [movie_mapper[i] for i in df['joke_id']]\n",
    "\n",
    "X = csr_matrix((df[\"Rating\"], (movie_index, user_index)), shape=(M, N))"
   ]
  },
  {
   "cell_type": "code",
   "execution_count": 78,
   "id": "2c34af2a",
   "metadata": {},
   "outputs": [
    {
     "data": {
      "text/plain": [
       "(1, 139)"
      ]
     },
     "execution_count": 78,
     "metadata": {},
     "output_type": "execute_result"
    }
   ],
   "source": [
    "x_train[0:1,:].shape"
   ]
  },
  {
   "cell_type": "code",
   "execution_count": 84,
   "id": "4b7ef358",
   "metadata": {},
   "outputs": [],
   "source": [
    "import math\n",
    "from scipy.spatial import distance\n",
    "\n",
    "err = 0\n",
    "err_dl = 0\n",
    "err_pop = 0\n",
    "\n",
    "for r in test[:100].iterrows():\n",
    "    joke_id = r[1]['joke_id']\n",
    "    user_id = r[1]['user_id']\n",
    "\n",
    "    sm = 0\n",
    "    wg = 0\n",
    "\n",
    "    C = X[joke_id - 1, :].toarray()[0, :]\n",
    "    D = C.nonzero()[0]\n",
    "    \n",
    "    for ind in D.tolist():\n",
    "        sim = abs(1 / distance.cosine(user_profiles[ind + 1], user_profiles[user_id]))\n",
    "        sm += sim * X[joke_id - 1, ind]\n",
    "        wg += sim\n",
    "    \n",
    "    pred_dl = (autoencoder.predict(x_train[user_id - 1:user_id,:])[0, joke_id - 1] * 20) - 10\n",
    "    pred = sm / wg\n",
    "    err += abs(pred - r[1]['Rating'])\n",
    "    err_pop += abs(pop.loc[joke_id]['Rating'] - r[1]['Rating'])\n",
    "    err_dl += abs(pred_dl - r[1]['Rating'])"
   ]
  },
  {
   "cell_type": "code",
   "execution_count": 88,
   "id": "6f7b7ac2",
   "metadata": {},
   "outputs": [
    {
     "data": {
      "text/plain": [
       "3.919513851623659"
      ]
     },
     "execution_count": 88,
     "metadata": {},
     "output_type": "execute_result"
    }
   ],
   "source": [
    "err / 100"
   ]
  },
  {
   "cell_type": "code",
   "execution_count": 89,
   "id": "10b7d026",
   "metadata": {},
   "outputs": [
    {
     "data": {
      "text/plain": [
       "3.9231943658384334"
      ]
     },
     "execution_count": 89,
     "metadata": {},
     "output_type": "execute_result"
    }
   ],
   "source": [
    "err_pop / 100"
   ]
  },
  {
   "cell_type": "code",
   "execution_count": 90,
   "id": "0c830fd6",
   "metadata": {},
   "outputs": [
    {
     "data": {
      "text/plain": [
       "4.457352735786437"
      ]
     },
     "execution_count": 90,
     "metadata": {},
     "output_type": "execute_result"
    }
   ],
   "source": [
    "err_dl / 100"
   ]
  },
  {
   "cell_type": "code",
   "execution_count": null,
   "id": "8c80903a",
   "metadata": {},
   "outputs": [],
   "source": []
  }
 ],
 "metadata": {
  "kernelspec": {
   "display_name": "Python 3 (ipykernel)",
   "language": "python",
   "name": "python3"
  },
  "language_info": {
   "codemirror_mode": {
    "name": "ipython",
    "version": 3
   },
   "file_extension": ".py",
   "mimetype": "text/x-python",
   "name": "python",
   "nbconvert_exporter": "python",
   "pygments_lexer": "ipython3",
   "version": "3.8.2"
  }
 },
 "nbformat": 4,
 "nbformat_minor": 5
}
