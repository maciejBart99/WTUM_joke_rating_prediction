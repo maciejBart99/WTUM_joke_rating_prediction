{
 "cells": [
  {
   "cell_type": "code",
   "execution_count": 16,
   "id": "3454b490",
   "metadata": {},
   "outputs": [],
   "source": [
    "from src.core import DataLoader\n",
    "import pandas as pd\n",
    "import numpy as np\n",
    "from src.preprocessing import PreprocessingPipeline, PunctuationNode, StopWordsNode, LemmatizationNode"
   ]
  },
  {
   "cell_type": "code",
   "execution_count": 17,
   "id": "8d3d1f87",
   "metadata": {},
   "outputs": [],
   "source": [
    "dl = DataLoader('data/jokes.csv', 'data/rating.csv')"
   ]
  },
  {
   "cell_type": "code",
   "execution_count": 18,
   "id": "dbad01b5",
   "metadata": {},
   "outputs": [],
   "source": [
    "jokes = dl.jokes['joke_text'].tolist()"
   ]
  },
  {
   "cell_type": "code",
   "execution_count": 19,
   "id": "150ddd67",
   "metadata": {},
   "outputs": [],
   "source": [
    "from src.embeddings import SentenceBert, BagOfWords, TFIDF"
   ]
  },
  {
   "cell_type": "code",
   "execution_count": 20,
   "id": "6a505ae5",
   "metadata": {},
   "outputs": [],
   "source": [
    "bert = SentenceBert()"
   ]
  },
  {
   "cell_type": "code",
   "execution_count": 21,
   "id": "f3338bd7",
   "metadata": {},
   "outputs": [],
   "source": [
    "embedded = bert.to_vec(jokes)"
   ]
  },
  {
   "cell_type": "code",
   "execution_count": 22,
   "id": "d838998b",
   "metadata": {},
   "outputs": [],
   "source": [
    "from sklearn.cluster import KMeans,SpectralClustering\n",
    "\n",
    "kmeans = SpectralClustering(n_clusters=10)\n",
    "kmeans.fit(embedded)\n",
    "clusters = kmeans.labels_"
   ]
  },
  {
   "cell_type": "code",
   "execution_count": 23,
   "id": "61182365",
   "metadata": {},
   "outputs": [],
   "source": [
    "import numpy as np"
   ]
  },
  {
   "cell_type": "code",
   "execution_count": 24,
   "id": "a75119e5",
   "metadata": {},
   "outputs": [],
   "source": [
    "categorized = dl.train_data\n",
    "categorized['category'] = categorized.apply(lambda x: clusters[x['joke_id'] - 1], axis=1)"
   ]
  },
  {
   "cell_type": "code",
   "execution_count": 13,
   "id": "847f3ea3",
   "metadata": {},
   "outputs": [],
   "source": [
    "users_count = categorized.groupby(\"user_id\").count().shape[0]"
   ]
  },
  {
   "cell_type": "code",
   "execution_count": 14,
   "id": "ad02488d",
   "metadata": {},
   "outputs": [],
   "source": [
    "X = np.zeros((users_count, 10))"
   ]
  },
  {
   "cell_type": "code",
   "execution_count": 20,
   "id": "e549b4eb",
   "metadata": {},
   "outputs": [],
   "source": [
    "ag = categorized.groupby([\"user_id\", \"category\"]).mean()"
   ]
  },
  {
   "cell_type": "code",
   "execution_count": 46,
   "id": "0da23c61",
   "metadata": {},
   "outputs": [
    {
     "data": {
      "text/plain": [
       "False"
      ]
     },
     "execution_count": 46,
     "metadata": {},
     "output_type": "execute_result"
    }
   ],
   "source": [
    "(1, 44) in ag.index"
   ]
  },
  {
   "cell_type": "code",
   "execution_count": null,
   "outputs": [],
   "source": [
    "test = dl.test_data"
   ],
   "metadata": {
    "collapsed": false,
    "pycharm": {
     "name": "#%%\n"
    }
   }
  },
  {
   "cell_type": "code",
   "execution_count": null,
   "outputs": [],
   "source": [
    "test"
   ],
   "metadata": {
    "collapsed": false,
    "pycharm": {
     "name": "#%%\n"
    }
   }
  },
  {
   "cell_type": "code",
   "execution_count": null,
   "outputs": [],
   "source": [
    "from src.embeddings import SentenceBert\n",
    "from src.models.category_based import CategoryBasedModel\n",
    "\n",
    "from src.core import Environment, DataLoader"
   ],
   "metadata": {
    "collapsed": false,
    "pycharm": {
     "name": "#%%\n"
    }
   }
  },
  {
   "cell_type": "code",
   "execution_count": null,
   "outputs": [],
   "source": [
    "dl = DataLoader('data/jokes.csv', 'data/rating.csv')"
   ],
   "metadata": {
    "collapsed": false,
    "pycharm": {
     "name": "#%%\n"
    }
   }
  },
  {
   "cell_type": "markdown",
   "source": [
    "embedding = SentenceBert()"
   ],
   "metadata": {
    "collapsed": false
   }
  },
  {
   "cell_type": "code",
   "execution_count": null,
   "outputs": [],
   "source": [
    "\n",
    "embedding = SentenceBert()"
   ],
   "metadata": {
    "collapsed": false,
    "pycharm": {
     "name": "#%%\n"
    }
   }
  },
  {
   "cell_type": "code",
   "execution_count": null,
   "outputs": [],
   "source": [
    "model = CategoryBasedModel(embedding, 8)"
   ],
   "metadata": {
    "collapsed": false,
    "pycharm": {
     "name": "#%%\n"
    }
   }
  },
  {
   "cell_type": "code",
   "execution_count": null,
   "outputs": [],
   "source": [
    "env = Environment(dl, model)"
   ],
   "metadata": {
    "collapsed": false,
    "pycharm": {
     "name": "#%%\n"
    }
   }
  },
  {
   "cell_type": "code",
   "execution_count": null,
   "outputs": [],
   "source": [
    "env.run()"
   ],
   "metadata": {
    "collapsed": false,
    "pycharm": {
     "name": "#%%\n"
    }
   }
  },
  {
   "cell_type": "code",
   "execution_count": 31,
   "id": "68764c9a",
   "metadata": {},
   "outputs": [],
   "source": []
  },
  {
   "cell_type": "code",
   "execution_count": 32,
   "id": "1c660eb5",
   "metadata": {},
   "outputs": [
    {
     "data": {
      "text/html": [
       "<div>\n",
       "<style scoped>\n",
       "    .dataframe tbody tr th:only-of-type {\n",
       "        vertical-align: middle;\n",
       "    }\n",
       "\n",
       "    .dataframe tbody tr th {\n",
       "        vertical-align: top;\n",
       "    }\n",
       "\n",
       "    .dataframe thead th {\n",
       "        text-align: right;\n",
       "    }\n",
       "</style>\n",
       "<table border=\"1\" class=\"dataframe\">\n",
       "  <thead>\n",
       "    <tr style=\"text-align: right;\">\n",
       "      <th></th>\n",
       "      <th>id</th>\n",
       "      <th>user_id</th>\n",
       "      <th>joke_id</th>\n",
       "      <th>Rating</th>\n",
       "    </tr>\n",
       "  </thead>\n",
       "  <tbody>\n",
       "    <tr>\n",
       "      <th>631672</th>\n",
       "      <td>30294_137</td>\n",
       "      <td>30294</td>\n",
       "      <td>137</td>\n",
       "      <td>3.031</td>\n",
       "    </tr>\n",
       "    <tr>\n",
       "      <th>494108</th>\n",
       "      <td>39579_129</td>\n",
       "      <td>39579</td>\n",
       "      <td>129</td>\n",
       "      <td>5.438</td>\n",
       "    </tr>\n",
       "    <tr>\n",
       "      <th>608173</th>\n",
       "      <td>31344_46</td>\n",
       "      <td>31344</td>\n",
       "      <td>46</td>\n",
       "      <td>6.438</td>\n",
       "    </tr>\n",
       "    <tr>\n",
       "      <th>1024924</th>\n",
       "      <td>25512_7</td>\n",
       "      <td>25512</td>\n",
       "      <td>7</td>\n",
       "      <td>2.969</td>\n",
       "    </tr>\n",
       "    <tr>\n",
       "      <th>514616</th>\n",
       "      <td>491_6</td>\n",
       "      <td>491</td>\n",
       "      <td>6</td>\n",
       "      <td>-9.750</td>\n",
       "    </tr>\n",
       "    <tr>\n",
       "      <th>...</th>\n",
       "      <td>...</td>\n",
       "      <td>...</td>\n",
       "      <td>...</td>\n",
       "      <td>...</td>\n",
       "    </tr>\n",
       "    <tr>\n",
       "      <th>64107</th>\n",
       "      <td>21168_86</td>\n",
       "      <td>21168</td>\n",
       "      <td>86</td>\n",
       "      <td>9.875</td>\n",
       "    </tr>\n",
       "    <tr>\n",
       "      <th>400131</th>\n",
       "      <td>32856_108</td>\n",
       "      <td>32856</td>\n",
       "      <td>108</td>\n",
       "      <td>8.812</td>\n",
       "    </tr>\n",
       "    <tr>\n",
       "      <th>1057541</th>\n",
       "      <td>37243_65</td>\n",
       "      <td>37243</td>\n",
       "      <td>65</td>\n",
       "      <td>-3.125</td>\n",
       "    </tr>\n",
       "    <tr>\n",
       "      <th>142783</th>\n",
       "      <td>5192_79</td>\n",
       "      <td>5192</td>\n",
       "      <td>79</td>\n",
       "      <td>8.281</td>\n",
       "    </tr>\n",
       "    <tr>\n",
       "      <th>271166</th>\n",
       "      <td>19521_72</td>\n",
       "      <td>19521</td>\n",
       "      <td>72</td>\n",
       "      <td>-0.781</td>\n",
       "    </tr>\n",
       "  </tbody>\n",
       "</table>\n",
       "<p>10000 rows × 4 columns</p>\n",
       "</div>"
      ],
      "text/plain": [
       "                id  user_id  joke_id  Rating\n",
       "631672   30294_137    30294      137   3.031\n",
       "494108   39579_129    39579      129   5.438\n",
       "608173    31344_46    31344       46   6.438\n",
       "1024924    25512_7    25512        7   2.969\n",
       "514616       491_6      491        6  -9.750\n",
       "...            ...      ...      ...     ...\n",
       "64107     21168_86    21168       86   9.875\n",
       "400131   32856_108    32856      108   8.812\n",
       "1057541   37243_65    37243       65  -3.125\n",
       "142783     5192_79     5192       79   8.281\n",
       "271166    19521_72    19521       72  -0.781\n",
       "\n",
       "[10000 rows x 4 columns]"
      ]
     },
     "execution_count": 32,
     "metadata": {},
     "output_type": "execute_result"
    }
   ],
   "source": [
    "test"
   ]
  },
  {
   "cell_type": "code",
   "execution_count": 1,
   "id": "7102631c",
   "metadata": {},
   "outputs": [],
   "source": [
    "from src.embeddings import SentenceBert\n",
    "from src.models.category_based import CategoryBasedModel\n",
    "\n",
    "from src.core import Environment, DataLoader"
   ]
  },
  {
   "cell_type": "code",
   "execution_count": 2,
   "id": "b2fe90e4",
   "metadata": {},
   "outputs": [],
   "source": [
    "dl = DataLoader('data/jokes.csv', 'data/rating.csv')"
   ]
  },
  {
   "cell_type": "markdown",
   "id": "69e736ca",
   "metadata": {},
   "source": [
    "embedding = SentenceBert()"
   ]
  },
  {
   "cell_type": "code",
   "execution_count": 3,
   "id": "d79474c4",
   "metadata": {},
   "outputs": [],
   "source": [
    "\n",
    "embedding = SentenceBert()"
   ]
  },
  {
   "cell_type": "code",
   "execution_count": 7,
   "id": "4cb2575d",
   "metadata": {},
   "outputs": [],
   "source": [
    "model = CategoryBasedModel(embedding, 8)"
   ]
  },
  {
   "cell_type": "code",
   "execution_count": 8,
   "id": "9742a5f4",
   "metadata": {},
   "outputs": [],
   "source": [
    "env = Environment(dl, model)"
   ]
  },
  {
   "cell_type": "code",
   "execution_count": 9,
   "id": "b23feb08",
   "metadata": {},
   "outputs": [
    {
     "name": "stdout",
     "output_type": "stream",
     "text": [
      "Explained variance score: 0.013571324725132783\n",
      "Mean absolute error: 4.239056488836024\n",
      "Mean squared error: 26.96707686340645\n",
      "Median absolute error: 3.7867023484674136\n",
      "R2 coefficient: 0.013570339018883493\n"
     ]
    }
   ],
   "source": [
    "env.run()"
   ]
  },
  {
   "cell_type": "code",
   "execution_count": null,
   "id": "39923b07",
   "metadata": {},
   "outputs": [],
   "source": []
  }
 ],
 "metadata": {
  "kernelspec": {
   "display_name": "Python 3 (ipykernel)",
   "language": "python",
   "name": "python3"
  },
  "language_info": {
   "codemirror_mode": {
    "name": "ipython",
    "version": 3
   },
   "file_extension": ".py",
   "mimetype": "text/x-python",
   "name": "python",
   "nbconvert_exporter": "python",
   "pygments_lexer": "ipython3",
   "version": "3.8.2"
  }
 },
 "nbformat": 4,
 "nbformat_minor": 5
}