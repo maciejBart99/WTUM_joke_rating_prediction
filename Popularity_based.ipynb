{
 "cells": [
  {
   "cell_type": "code",
   "execution_count": 1,
   "id": "1e155296",
   "metadata": {},
   "outputs": [],
   "source": [
    "from src.core import DataLoader, Environment"
   ]
  },
  {
   "cell_type": "code",
   "execution_count": 2,
   "id": "e4db5ab4",
   "metadata": {},
   "outputs": [],
   "source": [
    "from src.models.popularity_model import PopularityModel"
   ]
  },
  {
   "cell_type": "code",
   "execution_count": 3,
   "id": "e47975e1",
   "metadata": {},
   "outputs": [],
   "source": [
    "dl = DataLoader('data/jokes.csv', 'data/rating.csv')"
   ]
  },
  {
   "cell_type": "code",
   "execution_count": 4,
   "id": "0a5a728c",
   "metadata": {},
   "outputs": [],
   "source": [
    "model = PopularityModel()"
   ]
  },
  {
   "cell_type": "code",
   "execution_count": 5,
   "id": "5603f1aa",
   "metadata": {},
   "outputs": [],
   "source": [
    "env = Environment(dl, model)"
   ]
  },
  {
   "cell_type": "code",
   "execution_count": 6,
   "id": "5452240e",
   "metadata": {},
   "outputs": [
    {
     "name": "stdout",
     "output_type": "stream",
     "text": [
      "Explained variance score: 0.09554334235659334\n",
      "Mean absolute error: 4.04297249507049\n",
      "Mean squared error: 24.82726319260841\n",
      "Median absolute error: 3.5145840819086263\n",
      "R2 coefficient: 0.09554313723334729\n"
     ]
    }
   ],
   "source": [
    "env.run()"
   ]
  },
  {
   "cell_type": "code",
   "execution_count": null,
   "id": "d904466e",
   "metadata": {},
   "outputs": [],
   "source": []
  }
 ],
 "metadata": {
  "kernelspec": {
   "display_name": "Python 3 (ipykernel)",
   "language": "python",
   "name": "python3"
  },
  "language_info": {
   "codemirror_mode": {
    "name": "ipython",
    "version": 3
   },
   "file_extension": ".py",
   "mimetype": "text/x-python",
   "name": "python",
   "nbconvert_exporter": "python",
   "pygments_lexer": "ipython3",
   "version": "3.8.2"
  }
 },
 "nbformat": 4,
 "nbformat_minor": 5
}
