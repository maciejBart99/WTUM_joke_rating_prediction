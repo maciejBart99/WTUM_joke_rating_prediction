{
 "cells": [
  {
   "cell_type": "code",
   "execution_count": 6,
   "id": "26ae11c2",
   "metadata": {},
   "outputs": [],
   "source": [
    "from src.core import DataLoader"
   ]
  },
  {
   "cell_type": "code",
   "execution_count": 7,
   "id": "7a724bc4",
   "metadata": {},
   "outputs": [],
   "source": [
    "dl = DataLoader('data/jokes.csv', 'data/rating.csv')"
   ]
  },
  {
   "cell_type": "code",
   "execution_count": 8,
   "id": "5f6c4015",
   "metadata": {},
   "outputs": [],
   "source": [
    "from scipy.sparse import csr_matrix"
   ]
  },
  {
   "cell_type": "code",
   "execution_count": 9,
   "id": "6a746bac",
   "metadata": {},
   "outputs": [],
   "source": [
    "from scipy.sparse import csr_matrix\n",
    "import numpy as np\n",
    "\n",
    "from sklearn.metrics.pairwise import linear_kernel"
   ]
  },
  {
   "cell_type": "code",
   "execution_count": 10,
   "id": "5e2d55ca",
   "metadata": {},
   "outputs": [],
   "source": [
    "df = dl.train_data"
   ]
  },
  {
   "cell_type": "code",
   "execution_count": 11,
   "id": "670d0043",
   "metadata": {},
   "outputs": [],
   "source": [
    "N = len(df['user_id'].unique())\n",
    "M = len(df['joke_id'].unique())\n",
    "\n",
    "user_mapper = dict(zip(np.unique(df[\"user_id\"]), list(range(N))))\n",
    "joke_mapper = dict(zip(np.unique(df[\"joke_id\"]), list(range(M))))\n",
    "\n",
    "user_index = [user_mapper[i] for i in df['user_id']]\n",
    "joke_index = [joke_mapper[i] for i in df['joke_id']]\n",
    "\n",
    "X = csr_matrix((df[\"Rating\"], (joke_index, user_index)), shape=(M, N))"
   ]
  },
  {
   "cell_type": "code",
   "execution_count": 12,
   "id": "f3bd1660",
   "metadata": {},
   "outputs": [],
   "source": [
    "test = dl.test_data"
   ]
  },
  {
   "cell_type": "code",
   "execution_count": 13,
   "id": "a72c2494",
   "metadata": {},
   "outputs": [],
   "source": [
    "pop = dl.train_data.groupby('joke_id').mean()"
   ]
  },
  {
   "cell_type": "code",
   "execution_count": 14,
   "id": "d6169cb3",
   "metadata": {},
   "outputs": [],
   "source": [
    "import numpy as np\n",
    "import pandas as pd"
   ]
  },
  {
   "cell_type": "code",
   "execution_count": 15,
   "id": "6d3ed5a1",
   "metadata": {},
   "outputs": [
    {
     "name": "stderr",
     "output_type": "stream",
     "text": [
      "/var/folders/20/c9bztpfs1_3c5ylxgnmkqsz00000gn/T/ipykernel_6882/3603431326.py:26: RuntimeWarning: invalid value encountered in true_divide\n",
      "  C_map = np.abs(D / N)\n"
     ]
    }
   ],
   "source": [
    "import math\n",
    "\n",
    "err = 0\n",
    "err_pop = 0\n",
    "t = 0\n",
    "\n",
    "M = X.transpose().toarray()\n",
    "M_presence = M != 0\n",
    "\n",
    "taken_l = []\n",
    "data_l = []\n",
    "\n",
    "for r in test[:1000].iterrows():\n",
    "    joke_id = r[1]['joke_id'] - 1\n",
    "    user_id = r[1]['user_id'] - 1\n",
    "\n",
    "    sm = 0\n",
    "    wg = 0\n",
    "\n",
    "    row = M[user_id, :]\n",
    "    row_presence = row != 0\n",
    "    \n",
    "    P = (M_presence | np.repeat(row_presence.reshape((1, row.shape[0])), M.shape[0], 0)).astype(int)\n",
    "    D = np.sum(M * np.repeat(row.reshape((1, row.shape[0])), M.shape[0], 0), 1)\n",
    "    N = np.linalg.norm(M * P, 2, 1) * np.linalg.norm(row * row_presence, 2)\n",
    "    C_map = np.abs(D / N)\n",
    "    C_map[np.isnan(C_map)] = 0\n",
    "    \n",
    "    C = X[joke_id, :].toarray()[0, :]\n",
    "    D = C.nonzero()[0]\n",
    "    taken = 0\n",
    "    \n",
    "    for ind in D:\n",
    "        sim = C_map[ind]\n",
    "        \n",
    "        if sim > 0.2:\n",
    "            sm += sim * M[ind, joke_id]\n",
    "            wg += sim\n",
    "            taken += 1\n",
    "        \n",
    "    pred = sm / wg if wg > 0 else 0\n",
    "    e = abs(pred - r[1]['Rating'])\n",
    "    e_p = abs(pop.loc[joke_id + 1]['Rating'] - r[1]['Rating'])\n",
    "    err += e\n",
    "    err_pop += e_p\n",
    "    t += 1\n",
    "    \n",
    "    taken_l.append(taken)\n",
    "    data_l.append(e)"
   ]
  },
  {
   "cell_type": "code",
   "execution_count": 16,
   "id": "74eb329c",
   "metadata": {},
   "outputs": [
    {
     "data": {
      "text/plain": [
       "3.940672276106694"
      ]
     },
     "execution_count": 16,
     "metadata": {},
     "output_type": "execute_result"
    }
   ],
   "source": [
    "err / t"
   ]
  },
  {
   "cell_type": "code",
   "execution_count": 17,
   "id": "b912279b",
   "metadata": {},
   "outputs": [
    {
     "data": {
      "text/plain": [
       "4.185828192057924"
      ]
     },
     "execution_count": 17,
     "metadata": {},
     "output_type": "execute_result"
    }
   ],
   "source": [
    "err_pop / t"
   ]
  },
  {
   "cell_type": "code",
   "execution_count": 88,
   "id": "f318e257",
   "metadata": {},
   "outputs": [
    {
     "data": {
      "text/html": [
       "<div>\n",
       "<style scoped>\n",
       "    .dataframe tbody tr th:only-of-type {\n",
       "        vertical-align: middle;\n",
       "    }\n",
       "\n",
       "    .dataframe tbody tr th {\n",
       "        vertical-align: top;\n",
       "    }\n",
       "\n",
       "    .dataframe thead th {\n",
       "        text-align: right;\n",
       "    }\n",
       "</style>\n",
       "<table border=\"1\" class=\"dataframe\">\n",
       "  <thead>\n",
       "    <tr style=\"text-align: right;\">\n",
       "      <th></th>\n",
       "      <th>Opinions</th>\n",
       "      <th>Err</th>\n",
       "    </tr>\n",
       "  </thead>\n",
       "  <tbody>\n",
       "    <tr>\n",
       "      <th>0</th>\n",
       "      <td>1733</td>\n",
       "      <td>3.849634</td>\n",
       "    </tr>\n",
       "    <tr>\n",
       "      <th>1</th>\n",
       "      <td>825</td>\n",
       "      <td>5.051506</td>\n",
       "    </tr>\n",
       "    <tr>\n",
       "      <th>2</th>\n",
       "      <td>402</td>\n",
       "      <td>5.326866</td>\n",
       "    </tr>\n",
       "    <tr>\n",
       "      <th>3</th>\n",
       "      <td>386</td>\n",
       "      <td>1.002493</td>\n",
       "    </tr>\n",
       "    <tr>\n",
       "      <th>4</th>\n",
       "      <td>1212</td>\n",
       "      <td>1.425755</td>\n",
       "    </tr>\n",
       "    <tr>\n",
       "      <th>...</th>\n",
       "      <td>...</td>\n",
       "      <td>...</td>\n",
       "    </tr>\n",
       "    <tr>\n",
       "      <th>995</th>\n",
       "      <td>3819</td>\n",
       "      <td>7.727839</td>\n",
       "    </tr>\n",
       "    <tr>\n",
       "      <th>996</th>\n",
       "      <td>403</td>\n",
       "      <td>0.238012</td>\n",
       "    </tr>\n",
       "    <tr>\n",
       "      <th>997</th>\n",
       "      <td>119</td>\n",
       "      <td>4.318748</td>\n",
       "    </tr>\n",
       "    <tr>\n",
       "      <th>998</th>\n",
       "      <td>2355</td>\n",
       "      <td>5.571785</td>\n",
       "    </tr>\n",
       "    <tr>\n",
       "      <th>999</th>\n",
       "      <td>1172</td>\n",
       "      <td>4.349611</td>\n",
       "    </tr>\n",
       "  </tbody>\n",
       "</table>\n",
       "<p>1000 rows × 2 columns</p>\n",
       "</div>"
      ],
      "text/plain": [
       "     Opinions       Err\n",
       "0        1733  3.849634\n",
       "1         825  5.051506\n",
       "2         402  5.326866\n",
       "3         386  1.002493\n",
       "4        1212  1.425755\n",
       "..        ...       ...\n",
       "995      3819  7.727839\n",
       "996       403  0.238012\n",
       "997       119  4.318748\n",
       "998      2355  5.571785\n",
       "999      1172  4.349611\n",
       "\n",
       "[1000 rows x 2 columns]"
      ]
     },
     "execution_count": 88,
     "metadata": {},
     "output_type": "execute_result"
    }
   ],
   "source": [
    "plot_df = pd.DataFrame(data={'Opinions': taken_l, 'Err': data_l})\n",
    "\n",
    "plot_df"
   ]
  },
  {
   "cell_type": "code",
   "execution_count": 89,
   "id": "5d1a4d8e",
   "metadata": {},
   "outputs": [],
   "source": [
    "plot_df['opinion_bin'] = pd.cut(plot_df['Opinions'], bins=[300 * i for i in range(30)], labels=[300 * i for i in range(29)])"
   ]
  },
  {
   "cell_type": "code",
   "execution_count": 90,
   "id": "d09c9ee0",
   "metadata": {},
   "outputs": [
    {
     "data": {
      "text/plain": [
       "<AxesSubplot:xlabel='opinion_bin'>"
      ]
     },
     "execution_count": 90,
     "metadata": {},
     "output_type": "execute_result"
    },
    {
     "data": {
      "image/png": "[encoded data removed]",
      "text/plain": [
       "<Figure size 432x288 with 1 Axes>"
      ]
     },
     "metadata": {
      "needs_background": "light"
     },
     "output_type": "display_data"
    }
   ],
   "source": [
    "plot_df.groupby('opinion_bin').mean().plot.bar(y='Err')"
   ]
  },
  {
   "cell_type": "code",
   "execution_count": 1,
   "id": "f0ff6d37",
   "metadata": {},
   "outputs": [],
   "source": [
    "from src.full_text_models import BertCosineModel, FullPreprocessingTFIDFCosineModel\n",
    "from src.models.collaborative_filtering import CollaborativeFilteringModel\n",
    "\n",
    "from src.core import Environment, DataLoader"
   ]
  },
  {
   "cell_type": "code",
   "execution_count": 2,
   "id": "98cc7ff9",
   "metadata": {},
   "outputs": [],
   "source": [
    "dl = DataLoader('data/jokes.csv', 'data/rating.csv')"
   ]
  },
  {
   "cell_type": "code",
   "execution_count": 3,
   "id": "a0ed43a7",
   "metadata": {},
   "outputs": [],
   "source": [
    "model = CollaborativeFilteringModel()"
   ]
  },
  {
   "cell_type": "code",
   "execution_count": 4,
   "id": "5f3c40ce",
   "metadata": {},
   "outputs": [],
   "source": [
    "env = Environment(dl, model)"
   ]
  },
  {
   "cell_type": "code",
   "execution_count": 5,
   "id": "adce477c",
   "metadata": {},
   "outputs": [
    {
     "name": "stderr",
     "output_type": "stream",
     "text": [
      "/Users/lukasikm/PycharmProjects/WTUM_joke_rating_prediction/src/models/collaborative_filtering.py:34: RuntimeWarning: invalid value encountered in true_divide\n",
      "  C_map = np.abs(D / N)\n"
     ]
    },
    {
     "name": "stdout",
     "output_type": "stream",
     "text": [
      "Explained variance score: 0.13461457401839272\n",
      "Mean absolute error: 3.873382278716714\n",
      "Mean squared error: 23.52309007901426\n",
      "Median absolute error: 3.2861883327026877\n",
      "R2 coefficient: 0.1308095527890245\n"
     ]
    }
   ],
   "source": [
    "env.run()"
   ]
  },
  {
   "cell_type": "code",
   "execution_count": null,
   "id": "d63f95e4",
   "metadata": {},
   "outputs": [],
   "source": []
  }
 ],
 "metadata": {
  "kernelspec": {
   "display_name": "Python 3 (ipykernel)",
   "language": "python",
   "name": "python3"
  },
  "language_info": {
   "codemirror_mode": {
    "name": "ipython",
    "version": 3
   },
   "file_extension": ".py",
   "mimetype": "text/x-python",
   "name": "python",
   "nbconvert_exporter": "python",
   "pygments_lexer": "ipython3",
   "version": "3.8.2"
  }
 },
 "nbformat": 4,
 "nbformat_minor": 5
}