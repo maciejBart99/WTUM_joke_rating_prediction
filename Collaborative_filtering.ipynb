{
 "cells": [
  {
   "cell_type": "code",
   "execution_count": 2,
   "id": "26ae11c2",
   "metadata": {},
   "outputs": [],
   "source": [
    "from src.core import DataLoader"
   ]
  },
  {
   "cell_type": "code",
   "execution_count": 3,
   "id": "675ac9ea",
   "metadata": {},
   "outputs": [],
   "source": [
    "from scipy.spatial import distance"
   ]
  },
  {
   "cell_type": "code",
   "execution_count": 4,
   "id": "7a724bc4",
   "metadata": {},
   "outputs": [],
   "source": [
    "dl = DataLoader('data/jokes.csv', 'data/rating.csv')"
   ]
  },
  {
   "cell_type": "code",
   "execution_count": 5,
   "id": "5f6c4015",
   "metadata": {},
   "outputs": [],
   "source": [
    "from scipy.sparse import csr_matrix"
   ]
  },
  {
   "cell_type": "code",
   "execution_count": 6,
   "id": "6a746bac",
   "metadata": {},
   "outputs": [],
   "source": [
    "from scipy.sparse import csr_matrix\n",
    "import numpy as np\n",
    "\n",
    "from sklearn.metrics.pairwise import linear_kernel"
   ]
  },
  {
   "cell_type": "code",
   "execution_count": 7,
   "id": "5e2d55ca",
   "metadata": {},
   "outputs": [],
   "source": [
    "df = dl.train_data"
   ]
  },
  {
   "cell_type": "code",
   "execution_count": 8,
   "id": "7f7902be",
   "metadata": {},
   "outputs": [
    {
     "data": {
      "text/html": [
       "<div>\n",
       "<style scoped>\n",
       "    .dataframe tbody tr th:only-of-type {\n",
       "        vertical-align: middle;\n",
       "    }\n",
       "\n",
       "    .dataframe tbody tr th {\n",
       "        vertical-align: top;\n",
       "    }\n",
       "\n",
       "    .dataframe thead th {\n",
       "        text-align: right;\n",
       "    }\n",
       "</style>\n",
       "<table border=\"1\" class=\"dataframe\">\n",
       "  <thead>\n",
       "    <tr style=\"text-align: right;\">\n",
       "      <th></th>\n",
       "      <th>id</th>\n",
       "      <th>user_id</th>\n",
       "      <th>joke_id</th>\n",
       "      <th>Rating</th>\n",
       "    </tr>\n",
       "  </thead>\n",
       "  <tbody>\n",
       "    <tr>\n",
       "      <th>0</th>\n",
       "      <td>31030_110</td>\n",
       "      <td>31030</td>\n",
       "      <td>110</td>\n",
       "      <td>2.750</td>\n",
       "    </tr>\n",
       "    <tr>\n",
       "      <th>1</th>\n",
       "      <td>16144_109</td>\n",
       "      <td>16144</td>\n",
       "      <td>109</td>\n",
       "      <td>5.094</td>\n",
       "    </tr>\n",
       "    <tr>\n",
       "      <th>2</th>\n",
       "      <td>23098_6</td>\n",
       "      <td>23098</td>\n",
       "      <td>6</td>\n",
       "      <td>-6.438</td>\n",
       "    </tr>\n",
       "    <tr>\n",
       "      <th>4</th>\n",
       "      <td>18419_134</td>\n",
       "      <td>18419</td>\n",
       "      <td>134</td>\n",
       "      <td>9.375</td>\n",
       "    </tr>\n",
       "    <tr>\n",
       "      <th>5</th>\n",
       "      <td>5782_14</td>\n",
       "      <td>5782</td>\n",
       "      <td>14</td>\n",
       "      <td>-1.781</td>\n",
       "    </tr>\n",
       "    <tr>\n",
       "      <th>...</th>\n",
       "      <td>...</td>\n",
       "      <td>...</td>\n",
       "      <td>...</td>\n",
       "      <td>...</td>\n",
       "    </tr>\n",
       "    <tr>\n",
       "      <th>1092054</th>\n",
       "      <td>9517_132</td>\n",
       "      <td>9517</td>\n",
       "      <td>132</td>\n",
       "      <td>3.156</td>\n",
       "    </tr>\n",
       "    <tr>\n",
       "      <th>1092055</th>\n",
       "      <td>27767_118</td>\n",
       "      <td>27767</td>\n",
       "      <td>118</td>\n",
       "      <td>-1.594</td>\n",
       "    </tr>\n",
       "    <tr>\n",
       "      <th>1092056</th>\n",
       "      <td>10580_81</td>\n",
       "      <td>10580</td>\n",
       "      <td>81</td>\n",
       "      <td>2.000</td>\n",
       "    </tr>\n",
       "    <tr>\n",
       "      <th>1092057</th>\n",
       "      <td>31007_119</td>\n",
       "      <td>31007</td>\n",
       "      <td>119</td>\n",
       "      <td>8.906</td>\n",
       "    </tr>\n",
       "    <tr>\n",
       "      <th>1092058</th>\n",
       "      <td>8420_98</td>\n",
       "      <td>8420</td>\n",
       "      <td>98</td>\n",
       "      <td>-3.344</td>\n",
       "    </tr>\n",
       "  </tbody>\n",
       "</table>\n",
       "<p>873647 rows × 4 columns</p>\n",
       "</div>"
      ],
      "text/plain": [
       "                id  user_id  joke_id  Rating\n",
       "0        31030_110    31030      110   2.750\n",
       "1        16144_109    16144      109   5.094\n",
       "2          23098_6    23098        6  -6.438\n",
       "4        18419_134    18419      134   9.375\n",
       "5          5782_14     5782       14  -1.781\n",
       "...            ...      ...      ...     ...\n",
       "1092054   9517_132     9517      132   3.156\n",
       "1092055  27767_118    27767      118  -1.594\n",
       "1092056   10580_81    10580       81   2.000\n",
       "1092057  31007_119    31007      119   8.906\n",
       "1092058    8420_98     8420       98  -3.344\n",
       "\n",
       "[873647 rows x 4 columns]"
      ]
     },
     "execution_count": 8,
     "metadata": {},
     "output_type": "execute_result"
    }
   ],
   "source": [
    "df"
   ]
  },
  {
   "cell_type": "code",
   "execution_count": 9,
   "id": "670d0043",
   "metadata": {},
   "outputs": [],
   "source": [
    "N = len(df['user_id'].unique())\n",
    "M = len(df['joke_id'].unique())\n",
    "\n",
    "user_mapper = dict(zip(np.unique(df[\"user_id\"]), list(range(N))))\n",
    "movie_mapper = dict(zip(np.unique(df[\"joke_id\"]), list(range(M))))\n",
    "\n",
    "user_inv_mapper = dict(zip(list(range(N)), np.unique(df[\"user_id\"])))\n",
    "movie_inv_mapper = dict(zip(list(range(M)), np.unique(df[\"joke_id\"])))\n",
    "\n",
    "user_index = [user_mapper[i] for i in df['user_id']]\n",
    "movie_index = [movie_mapper[i] for i in df['joke_id']]\n",
    "\n",
    "X = csr_matrix((df[\"Rating\"], (movie_index, user_index)), shape=(M, N))"
   ]
  },
  {
   "cell_type": "code",
   "execution_count": 19,
   "id": "88aaa0b7",
   "metadata": {},
   "outputs": [
    {
     "data": {
      "text/plain": [
       "(40863, 139)"
      ]
     },
     "execution_count": 19,
     "metadata": {},
     "output_type": "execute_result"
    }
   ],
   "source": [
    "X.transpose().shape"
   ]
  },
  {
   "cell_type": "code",
   "execution_count": 10,
   "id": "f3bd1660",
   "metadata": {},
   "outputs": [],
   "source": [
    "test = dl.test_data"
   ]
  },
  {
   "cell_type": "code",
   "execution_count": 16,
   "id": "818adc29",
   "metadata": {},
   "outputs": [
    {
     "data": {
      "text/html": [
       "<div>\n",
       "<style scoped>\n",
       "    .dataframe tbody tr th:only-of-type {\n",
       "        vertical-align: middle;\n",
       "    }\n",
       "\n",
       "    .dataframe tbody tr th {\n",
       "        vertical-align: top;\n",
       "    }\n",
       "\n",
       "    .dataframe thead th {\n",
       "        text-align: right;\n",
       "    }\n",
       "</style>\n",
       "<table border=\"1\" class=\"dataframe\">\n",
       "  <thead>\n",
       "    <tr style=\"text-align: right;\">\n",
       "      <th></th>\n",
       "      <th>id</th>\n",
       "      <th>user_id</th>\n",
       "      <th>joke_id</th>\n",
       "      <th>Rating</th>\n",
       "    </tr>\n",
       "  </thead>\n",
       "  <tbody>\n",
       "    <tr>\n",
       "      <th>617312</th>\n",
       "      <td>27448_5</td>\n",
       "      <td>27448</td>\n",
       "      <td>5</td>\n",
       "      <td>-2.656</td>\n",
       "    </tr>\n",
       "    <tr>\n",
       "      <th>737939</th>\n",
       "      <td>21149_6</td>\n",
       "      <td>21149</td>\n",
       "      <td>6</td>\n",
       "      <td>3.750</td>\n",
       "    </tr>\n",
       "    <tr>\n",
       "      <th>381343</th>\n",
       "      <td>31738_139</td>\n",
       "      <td>31738</td>\n",
       "      <td>139</td>\n",
       "      <td>9.750</td>\n",
       "    </tr>\n",
       "    <tr>\n",
       "      <th>489951</th>\n",
       "      <td>13644_58</td>\n",
       "      <td>13644</td>\n",
       "      <td>58</td>\n",
       "      <td>6.000</td>\n",
       "    </tr>\n",
       "    <tr>\n",
       "      <th>700537</th>\n",
       "      <td>10131_8</td>\n",
       "      <td>10131</td>\n",
       "      <td>8</td>\n",
       "      <td>-9.875</td>\n",
       "    </tr>\n",
       "    <tr>\n",
       "      <th>...</th>\n",
       "      <td>...</td>\n",
       "      <td>...</td>\n",
       "      <td>...</td>\n",
       "      <td>...</td>\n",
       "    </tr>\n",
       "    <tr>\n",
       "      <th>226480</th>\n",
       "      <td>25495_55</td>\n",
       "      <td>25495</td>\n",
       "      <td>55</td>\n",
       "      <td>0.906</td>\n",
       "    </tr>\n",
       "    <tr>\n",
       "      <th>676103</th>\n",
       "      <td>5345_115</td>\n",
       "      <td>5345</td>\n",
       "      <td>115</td>\n",
       "      <td>-1.531</td>\n",
       "    </tr>\n",
       "    <tr>\n",
       "      <th>48647</th>\n",
       "      <td>4993_8</td>\n",
       "      <td>4993</td>\n",
       "      <td>8</td>\n",
       "      <td>0.031</td>\n",
       "    </tr>\n",
       "    <tr>\n",
       "      <th>291008</th>\n",
       "      <td>30200_7</td>\n",
       "      <td>30200</td>\n",
       "      <td>7</td>\n",
       "      <td>4.688</td>\n",
       "    </tr>\n",
       "    <tr>\n",
       "      <th>791450</th>\n",
       "      <td>38743_84</td>\n",
       "      <td>38743</td>\n",
       "      <td>84</td>\n",
       "      <td>1.094</td>\n",
       "    </tr>\n",
       "  </tbody>\n",
       "</table>\n",
       "<p>218412 rows × 4 columns</p>\n",
       "</div>"
      ],
      "text/plain": [
       "               id  user_id  joke_id  Rating\n",
       "617312    27448_5    27448        5  -2.656\n",
       "737939    21149_6    21149        6   3.750\n",
       "381343  31738_139    31738      139   9.750\n",
       "489951   13644_58    13644       58   6.000\n",
       "700537    10131_8    10131        8  -9.875\n",
       "...           ...      ...      ...     ...\n",
       "226480   25495_55    25495       55   0.906\n",
       "676103   5345_115     5345      115  -1.531\n",
       "48647      4993_8     4993        8   0.031\n",
       "291008    30200_7    30200        7   4.688\n",
       "791450   38743_84    38743       84   1.094\n",
       "\n",
       "[218412 rows x 4 columns]"
      ]
     },
     "execution_count": 16,
     "metadata": {},
     "output_type": "execute_result"
    }
   ],
   "source": [
    "test"
   ]
  },
  {
   "cell_type": "code",
   "execution_count": 22,
   "id": "a72c2494",
   "metadata": {},
   "outputs": [],
   "source": [
    "pop = dl.train_data.groupby('joke_id').mean()"
   ]
  },
  {
   "cell_type": "code",
   "execution_count": 24,
   "id": "bcc3fb9d",
   "metadata": {},
   "outputs": [],
   "source": [
    "import math\n",
    "\n",
    "err = 0\n",
    "err_pop = 0\n",
    "\n",
    "for r in test[:20].iterrows():\n",
    "    joke_id = r[1]['joke_id'] - 1\n",
    "    user_id = r[1]['user_id'] - 1\n",
    "\n",
    "    sm = 0\n",
    "    wg = 0\n",
    "\n",
    "    C = X[joke_id, :].toarray()[0, :]\n",
    "    D = C.nonzero()[0]\n",
    "    \n",
    "    for ind in D.tolist():\n",
    "        sim = abs(1 / distance.cosine(X[:, ind].toarray()[:, 0], X[:, user_id].toarray()[:, 0]))\n",
    "        sm += sim * X[joke_id, ind]\n",
    "        wg += sim\n",
    "    \n",
    "    pred = sm / wg\n",
    "    err += abs(pred - r[1]['Rating'])\n",
    "    err_pop += abs(pop.loc[joke_id + 1]['Rating'] - r[1]['Rating'])"
   ]
  },
  {
   "cell_type": "code",
   "execution_count": 26,
   "id": "91f507f1",
   "metadata": {},
   "outputs": [
    {
     "data": {
      "text/plain": [
       "3.774211052293725"
      ]
     },
     "execution_count": 26,
     "metadata": {},
     "output_type": "execute_result"
    }
   ],
   "source": [
    "err / 20"
   ]
  },
  {
   "cell_type": "code",
   "execution_count": 27,
   "id": "3fa4514c",
   "metadata": {},
   "outputs": [
    {
     "data": {
      "text/plain": [
       "3.8226606393036606"
      ]
     },
     "execution_count": 27,
     "metadata": {},
     "output_type": "execute_result"
    }
   ],
   "source": [
    "err_pop / 20"
   ]
  },
  {
   "cell_type": "code",
   "execution_count": null,
   "id": "f5c33aa1",
   "metadata": {},
   "outputs": [],
   "source": []
  }
 ],
 "metadata": {
  "kernelspec": {
   "display_name": "Python 3 (ipykernel)",
   "language": "python",
   "name": "python3"
  },
  "language_info": {
   "codemirror_mode": {
    "name": "ipython",
    "version": 3
   },
   "file_extension": ".py",
   "mimetype": "text/x-python",
   "name": "python",
   "nbconvert_exporter": "python",
   "pygments_lexer": "ipython3",
   "version": "3.8.2"
  }
 },
 "nbformat": 4,
 "nbformat_minor": 5
}
