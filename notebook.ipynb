{
 "cells": [
  {
   "cell_type": "code",
   "execution_count": 1,
   "id": "e38aeec6",
   "metadata": {},
   "outputs": [],
   "source": [
    "import pandas as pd"
   ]
  },
  {
   "cell_type": "code",
   "execution_count": 2,
   "id": "9fe8508f",
   "metadata": {},
   "outputs": [],
   "source": [
    "DEFAULT_JOKES_FILENAME = 'jokes.csv'\n",
    "DEFAULT_RATING_FILENAME = 'train.csv'"
   ]
  },
  {
   "cell_type": "code",
   "execution_count": 3,
   "id": "93ac588e",
   "metadata": {},
   "outputs": [],
   "source": [
    "class DataLoader:\n",
    "    def __init__(self, jokes_filename=DEFAULT_JOKES_FILENAME, rating_filename=DEFAULT_RATING_FILENAME):\n",
    "        self._jokes_df = pd.read_csv(jokes_filename)\n",
    "        self._rating_df = pd.read_csv(rating_filename)\n",
    "        self._rating_train_df = None\n",
    "        self._rating_test_df = None\n",
    "        \n",
    "        self.resample()\n",
    "    \n",
    "    def resample(self, test_frac=.2, per_user=False):\n",
    "        if test_frac == 0:\n",
    "            self._rating_train_df = self._rating_df\n",
    "            self._rating_test_df = self._rating_df.head(0)\n",
    "        \n",
    "        if per_user:\n",
    "            df = self._rating_df\n",
    "            test_frames = [self.for_user(user_id, df=df).sample(frac=test_frac) for user_id in df.user_id.unique()]\n",
    "            self._rating_test_df = pd.concat(test_frames)\n",
    "        else:\n",
    "            self._rating_test_df = self._rating_df.sample(frac=test_frac)\n",
    "        \n",
    "        self._rating_train_df = self._rating_df.drop(self._rating_test_df.index)\n",
    "        \n",
    "    @property\n",
    "    def train_data(self):\n",
    "        return self._rating_train_df\n",
    "\n",
    "    @property\n",
    "    def test_data(self):\n",
    "        return self._rating_test_df\n",
    "\n",
    "    @property\n",
    "    def jokes(self):\n",
    "        return self._jokes_df\n",
    "\n",
    "    def for_user(self, user_id, df=None):\n",
    "        if df is None:\n",
    "            df = self.train_data\n",
    "        \n",
    "        return df.loc[df['user_id'] == user_id]\n",
    "    \n",
    "    def for_joke(self, joke_id, df=None):\n",
    "        if df is None:\n",
    "            df = self.train_data\n",
    "        \n",
    "        return df.loc[df['joke_id'] == joke_id]\n",
    "    \n",
    "    def joke_text(self, joke_id):\n",
    "        return self.jokes.loc[self.jokes['joke_id'] == joke_id].iloc[0]['joke_text']"
   ]
  },
  {
   "cell_type": "code",
   "execution_count": 4,
   "id": "e7b74869",
   "metadata": {},
   "outputs": [],
   "source": [
    "dl = DataLoader()"
   ]
  }
 ],
 "metadata": {
  "kernelspec": {
   "display_name": "Python 3 (ipykernel)",
   "language": "python",
   "name": "python3"
  },
  "language_info": {
   "codemirror_mode": {
    "name": "ipython",
    "version": 3
   },
   "file_extension": ".py",
   "mimetype": "text/x-python",
   "name": "python",
   "nbconvert_exporter": "python",
   "pygments_lexer": "ipython3",
   "version": "3.8.3"
  }
 },
 "nbformat": 4,
 "nbformat_minor": 5
}
