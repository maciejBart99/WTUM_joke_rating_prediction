{
 "cells": [
  {
   "cell_type": "code",
   "execution_count": 48,
   "id": "e38aeec6",
   "metadata": {},
   "outputs": [],
   "source": [
    "import pandas as pd\n",
    "from os import path\n",
    "import random\n",
    "from abc import ABCMeta, abstractmethod\n",
    "import sklearn.metrics as sklmetrics"
   ]
  },
  {
   "cell_type": "code",
   "execution_count": 32,
   "id": "9fe8508f",
   "metadata": {},
   "outputs": [],
   "source": [
    "DATA_PATH = 'data'\n",
    "\n",
    "DEFAULT_JOKES_FILENAME = path.join(DATA_PATH, 'jokes.csv')\n",
    "DEFAULT_RATING_FILENAME = path.join(DATA_PATH, 'rating.csv')"
   ]
  },
  {
   "cell_type": "code",
   "execution_count": 33,
   "id": "bb0071f9",
   "metadata": {},
   "outputs": [],
   "source": [
    "class Model:\n",
    "    @abstractmethod\n",
    "    def fit(self, data_x, data_y):\n",
    "        pass\n",
    "    @abstractmethod\n",
    "    def predict(self, data_x):\n",
    "        pass\n"
   ]
  },
  {
   "cell_type": "code",
   "execution_count": 34,
   "id": "3bb6f8ed",
   "metadata": {},
   "outputs": [],
   "source": [
    "class DummyModel(Model):\n",
    "    def __init__(self):\n",
    "        pass\n",
    "    def fit(self, data_x, data_y):\n",
    "        pass\n",
    "    def predict(self, data_x):\n",
    "        d = {'Rating': [random.uniform(-10.0, 10.0) for i in range(data_x.shape[0])]}\n",
    "        predicted = pd.DataFrame(data=d)\n",
    "        return predicted"
   ]
  },
  {
   "cell_type": "code",
   "execution_count": 50,
   "id": "96b802ac",
   "metadata": {},
   "outputs": [],
   "source": [
    "class Environment:\n",
    "    def __init__(self, data_loader, model):\n",
    "        self.data_loader = data_loader\n",
    "        self.model = model\n",
    "    def run(self, model_trainable=True):\n",
    "        if model_trainable:\n",
    "            rating_train_df = self.data_loader.train_data\n",
    "            train_x, train_y = rating_train_df.get([\"id\", \"user_id\", \"joke_id\"]), rating_train_df.get(\"Rating\")\n",
    "            self.model.fit(train_x, train_y)\n",
    "        rating_test_df = self.data_loader.test_data\n",
    "        test_x, test_y = rating_test_df.get([\"id\", \"user_id\", \"joke_id\"]), rating_test_df.get(\"Rating\")\n",
    "        predicted_y = self.model.predict(test_x)\n",
    "        print(\"Explained variance score: \"+str(sklmetrics.explained_variance_score(test_y, predicted_y)))\n",
    "        print(\"Mean absolute error: \"+str(sklmetrics.mean_absolute_error(test_y, predicted_y)))\n",
    "        print(\"Mean squared error: \"+str(sklmetrics.mean_squared_error(test_y, predicted_y)))\n",
    "        print(\"Median absolute error: \"+str(sklmetrics.median_absolute_error(test_y, predicted_y)))\n",
    "        print(\"R2 coefficient: \"+str(sklmetrics.r2_score(test_y, predicted_y)))\n",
    "\n"
   ]
  },
  {
   "cell_type": "code",
   "execution_count": 37,
   "id": "93ac588e",
   "metadata": {},
   "outputs": [],
   "source": [
    "class DataLoader:\n",
    "    def __init__(self, jokes_filename=DEFAULT_JOKES_FILENAME, rating_filename=DEFAULT_RATING_FILENAME):\n",
    "        self._jokes_df = pd.read_csv(jokes_filename)\n",
    "        self._rating_df = pd.read_csv(rating_filename)\n",
    "        self._rating_train_df = None\n",
    "        self._rating_test_df = None\n",
    "        \n",
    "        self.resample()\n",
    "    \n",
    "    def resample(self, test_frac=.2, per_user=False):\n",
    "        if test_frac == 0:\n",
    "            self._rating_train_df = self._rating_df\n",
    "            self._rating_test_df = self._rating_df.head(0)\n",
    "        \n",
    "        if per_user:\n",
    "            df = self._rating_df\n",
    "            test_frames = [self.for_user(user_id, df=df).sample(frac=test_frac) for user_id in df.user_id.unique()]\n",
    "            self._rating_test_df = pd.concat(test_frames)\n",
    "        else:\n",
    "            self._rating_test_df = self._rating_df.sample(frac=test_frac)\n",
    "        \n",
    "        self._rating_train_df = self._rating_df.drop(self._rating_test_df.index)\n",
    "        \n",
    "    @property\n",
    "    def train_data(self):\n",
    "        return self._rating_train_df\n",
    "\n",
    "    @property\n",
    "    def test_data(self):\n",
    "        return self._rating_test_df\n",
    "\n",
    "    @property\n",
    "    def jokes(self):\n",
    "        return self._jokes_df\n",
    "\n",
    "    def for_user(self, user_id, df=None):\n",
    "        if df is None:\n",
    "            df = self.train_data\n",
    "        \n",
    "        return df.loc[df['user_id'] == user_id]\n",
    "    \n",
    "    def for_joke(self, joke_id, df=None):\n",
    "        if df is None:\n",
    "            df = self.train_data\n",
    "        \n",
    "        return df.loc[df['joke_id'] == joke_id]\n",
    "    \n",
    "    def joke_text(self, joke_id):\n",
    "        return self.jokes.loc[self.jokes['joke_id'] == joke_id].iloc[0]['joke_text']"
   ]
  },
  {
   "cell_type": "code",
   "execution_count": 51,
   "id": "e7b74869",
   "metadata": {},
   "outputs": [
    {
     "name": "stdout",
     "output_type": "stream",
     "text": [
      "Explained variance score: -1.2105883937761637\n",
      "Mean absolute error: 6.520456967085738\n",
      "Mean squared error: 63.73482607235859\n",
      "Median absolute error: 5.7287811731926155\n",
      "R2 coefficient: -1.323051779685076\n"
     ]
    }
   ],
   "source": [
    "dl = DataLoader()\n",
    "model = DummyModel()\n",
    "env = Environment(dl, model)\n",
    "env.run(model_trainable=False)\n"
   ]
  }
 ],
 "metadata": {
  "kernelspec": {
   "display_name": "Python 3 (ipykernel)",
   "language": "python",
   "name": "python3"
  },
  "language_info": {
   "codemirror_mode": {
    "name": "ipython",
    "version": 3
   },
   "file_extension": ".py",
   "mimetype": "text/x-python",
   "name": "python",
   "nbconvert_exporter": "python",
   "pygments_lexer": "ipython3",
   "version": "3.9.9"
  }
 },
 "nbformat": 4,
 "nbformat_minor": 5
}
